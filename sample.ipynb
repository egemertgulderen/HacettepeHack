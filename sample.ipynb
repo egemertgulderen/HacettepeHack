{
 "cells": [
  {
   "cell_type": "code",
   "execution_count": null,
   "id": "5c4ed574ab00dc62",
   "metadata": {
    "ExecuteTime": {
     "end_time": "2025-03-02T17:26:10.018709Z",
     "start_time": "2025-03-02T17:26:10.011765Z"
    }
   },
   "outputs": [
    {
     "data": {
      "text/plain": [
       "\"Burada önce her bir veri setini incelemek içindeki\\n* Null valuelar\\n* Yanlış değerler\\n* Anlamsız değerler\\n\\nBunlar önceden her bir veri seti için yapılıp sonrasında ana tek bir set üzerinde birleştirildiğinde sıkıntı olmayacaktır. Lakin her halükarda bunu tekrardan kontrol etmek lazım.\\n\\n\\n\\n\\n!+!'^! E-CORP Yaşları maksimum 72 ay olarak gözüküyor. Bunlar müşteri süresi olarak yaşmı yoksa gerçek yaşları mı öğren\\n!+!'^!\\n\\n\\nThe CSAT Survey and Product Bug datasets each involve 640 customers, and notably, they share the same set of IDs (every customer who gave a CSAT survey also has product bug records, which suggests these might be specific clients in a program).\\n\\n\\n\\nCsat ile help ticket analizi first response time and csat\\n\\n\""
      ]
     },
     "execution_count": 2,
     "metadata": {},
     "output_type": "execute_result"
    }
   ],
   "source": [
    "'''Kendime Notlar'''\n",
    "\n",
    "'''Burada önce her bir veri setini incelemek içindeki\n",
    "* Null valuelar\n",
    "* Yanlış değerler\n",
    "* Anlamsız değerler\n",
    "\n",
    "Bunlar önceden her bir veri seti için yapılıp sonrasında ana tek bir set üzerinde birleştirildiğinde sıkıntı olmayacaktır. Lakin her halükarda bunu tekrardan kontrol etmek lazım.\n",
    "\n",
    "\n",
    "\n",
    "The CSAT Survey and Product Bug datasets each involve 640 customers, and notably, they share the same set of IDs (every customer who gave a CSAT survey also has product bug records, which suggests these might be specific clients in a program).\n",
    "\n",
    "\n",
    "\n",
    "Csat ile help ticket analizi first response time and csat\n",
    "\n",
    "'''"
   ]
  },
  {
   "cell_type": "code",
   "execution_count": 46,
   "id": "ae8b0819403bb914",
   "metadata": {
    "ExecuteTime": {
     "end_time": "2025-03-02T17:26:18.666543Z",
     "start_time": "2025-03-02T17:26:18.662163Z"
    }
   },
   "outputs": [],
   "source": [
    "# Libraries\n",
    "import pandas as pd\n",
    "import numpy as np\n",
    "\n",
    "import matplotlib.pyplot as plt\n",
    "import seaborn as sns\n",
    "\n",
    "pd.set_option('display.max_rows', None)\n",
    "pd.set_option('display.max_columns', None)\n"
   ]
  },
  {
   "cell_type": "markdown",
   "id": "1a870c5b223452d7",
   "metadata": {},
   "source": [
    "MRR: Müşterinin E-corp’a aylık olarak ödediği para miktarını gösterir.\n",
    "\n",
    "\n",
    "Total Revenue: Müşterinin, E-corp ürünlerini kullanarak elde ettiği toplam gelir miktarını gösterir.\n",
    "\n",
    "\n",
    "Help Ticket Count: Müşterinin, müşteri destek ekibinden yardım almak için oluşturduğu toplam talep sayısını gösterir.\n",
    "\n",
    "\n",
    "Help Ticket Lead Time(hours): İlgili müşteri tarafından oluşturulan taleplerin ortalama çözüm süresini gösterir.\n",
    "\n",
    "\n",
    "Company Newsletter Interaction Count: Müşterinin, E-corp tarafından gönderilen bültenlerle kaç kez etkileşime geçtiğini gösterir.\n",
    "\n",
    "\n",
    "Status: Müşterinin satış sürecindeki mevcut durumunu gösterir."
   ]
  },
  {
   "cell_type": "markdown",
   "id": "a0456ab25be1bc45",
   "metadata": {},
   "source": [
    "--------------------------------------"
   ]
  },
  {
   "cell_type": "markdown",
   "id": "5e49c3e596436f14",
   "metadata": {},
   "source": [
    "# Univariate Analysis"
   ]
  },
  {
   "cell_type": "markdown",
   "id": "fa28a226b037f4b4",
   "metadata": {},
   "source": [
    "### Csat Survey"
   ]
  },
  {
   "cell_type": "code",
   "execution_count": 3,
   "id": "54eafa810e9868c7",
   "metadata": {
    "ExecuteTime": {
     "end_time": "2025-03-02T17:26:23.841640Z",
     "start_time": "2025-03-02T17:26:23.713672Z"
    }
   },
   "outputs": [
    {
     "data": {
      "text/html": [
       "<div>\n",
       "<style scoped>\n",
       "    .dataframe tbody tr th:only-of-type {\n",
       "        vertical-align: middle;\n",
       "    }\n",
       "\n",
       "    .dataframe tbody tr th {\n",
       "        vertical-align: top;\n",
       "    }\n",
       "\n",
       "    .dataframe thead th {\n",
       "        text-align: right;\n",
       "    }\n",
       "</style>\n",
       "<table border=\"1\" class=\"dataframe\">\n",
       "  <thead>\n",
       "    <tr style=\"text-align: right;\">\n",
       "      <th></th>\n",
       "      <th>Customer ID</th>\n",
       "      <th>Year</th>\n",
       "      <th>Quarter</th>\n",
       "      <th>Survey Date</th>\n",
       "      <th>Response Date</th>\n",
       "      <th>How likely are you to recommend insider to a friend or colleague</th>\n",
       "      <th>How would you rate the value you gain from our company</th>\n",
       "      <th>How frequently are you using our platform</th>\n",
       "      <th>Please rate the overall quality of our products</th>\n",
       "      <th>Please rate the usability of the panel</th>\n",
       "      <th>Please rate your understanding of our reporting capabilities in the panel</th>\n",
       "    </tr>\n",
       "  </thead>\n",
       "  <tbody>\n",
       "    <tr>\n",
       "      <th>0</th>\n",
       "      <td>CRM-1516050</td>\n",
       "      <td>2022</td>\n",
       "      <td>3</td>\n",
       "      <td>2022-07-01</td>\n",
       "      <td>2022-08-26</td>\n",
       "      <td>10</td>\n",
       "      <td>5</td>\n",
       "      <td>Once a Month</td>\n",
       "      <td>5</td>\n",
       "      <td>5.0</td>\n",
       "      <td>I need someone from Insider team to provide me...</td>\n",
       "    </tr>\n",
       "    <tr>\n",
       "      <th>1</th>\n",
       "      <td>CRM-1516050</td>\n",
       "      <td>2022</td>\n",
       "      <td>3</td>\n",
       "      <td>2022-07-01</td>\n",
       "      <td>2022-09-27</td>\n",
       "      <td>10</td>\n",
       "      <td>5</td>\n",
       "      <td>Once a Month</td>\n",
       "      <td>5</td>\n",
       "      <td>5.0</td>\n",
       "      <td>I don't use it often</td>\n",
       "    </tr>\n",
       "    <tr>\n",
       "      <th>2</th>\n",
       "      <td>CRM-1470950</td>\n",
       "      <td>2022</td>\n",
       "      <td>1</td>\n",
       "      <td>2022-01-01</td>\n",
       "      <td>2022-03-25</td>\n",
       "      <td>4</td>\n",
       "      <td>3</td>\n",
       "      <td>Once a Day</td>\n",
       "      <td>2</td>\n",
       "      <td>3.0</td>\n",
       "      <td>I need someone from Insider team to provide me...</td>\n",
       "    </tr>\n",
       "    <tr>\n",
       "      <th>3</th>\n",
       "      <td>CRM-1470950</td>\n",
       "      <td>2022</td>\n",
       "      <td>3</td>\n",
       "      <td>2022-07-01</td>\n",
       "      <td>2022-09-30</td>\n",
       "      <td>6</td>\n",
       "      <td>3</td>\n",
       "      <td>Once a Week</td>\n",
       "      <td>4</td>\n",
       "      <td>4.0</td>\n",
       "      <td>I tried but could not find everything I need</td>\n",
       "    </tr>\n",
       "    <tr>\n",
       "      <th>4</th>\n",
       "      <td>CRM-1470950</td>\n",
       "      <td>2022</td>\n",
       "      <td>2</td>\n",
       "      <td>2022-04-01</td>\n",
       "      <td>2022-06-23</td>\n",
       "      <td>10</td>\n",
       "      <td>5</td>\n",
       "      <td>Once a Day</td>\n",
       "      <td>4</td>\n",
       "      <td>3.0</td>\n",
       "      <td>I need someone from Insider team to provide me...</td>\n",
       "    </tr>\n",
       "  </tbody>\n",
       "</table>\n",
       "</div>"
      ],
      "text/plain": [
       "   Customer ID  Year  Quarter Survey Date Response Date  \\\n",
       "0  CRM-1516050  2022        3  2022-07-01    2022-08-26   \n",
       "1  CRM-1516050  2022        3  2022-07-01    2022-09-27   \n",
       "2  CRM-1470950  2022        1  2022-01-01    2022-03-25   \n",
       "3  CRM-1470950  2022        3  2022-07-01    2022-09-30   \n",
       "4  CRM-1470950  2022        2  2022-04-01    2022-06-23   \n",
       "\n",
       "   How likely are you to recommend insider to a friend or colleague   \\\n",
       "0                                                 10                   \n",
       "1                                                 10                   \n",
       "2                                                  4                   \n",
       "3                                                  6                   \n",
       "4                                                 10                   \n",
       "\n",
       "   How would you rate the value you gain from our company  \\\n",
       "0                                                  5        \n",
       "1                                                  5        \n",
       "2                                                  3        \n",
       "3                                                  3        \n",
       "4                                                  5        \n",
       "\n",
       "  How frequently are you using our platform  \\\n",
       "0                              Once a Month   \n",
       "1                              Once a Month   \n",
       "2                                Once a Day   \n",
       "3                               Once a Week   \n",
       "4                                Once a Day   \n",
       "\n",
       "   Please rate the overall quality of our products  \\\n",
       "0                                                5   \n",
       "1                                                5   \n",
       "2                                                2   \n",
       "3                                                4   \n",
       "4                                                4   \n",
       "\n",
       "   Please rate the usability of the panel  \\\n",
       "0                                     5.0   \n",
       "1                                     5.0   \n",
       "2                                     3.0   \n",
       "3                                     4.0   \n",
       "4                                     3.0   \n",
       "\n",
       "  Please rate your understanding of our reporting capabilities in the panel  \n",
       "0  I need someone from Insider team to provide me...                         \n",
       "1                               I don't use it often                         \n",
       "2  I need someone from Insider team to provide me...                         \n",
       "3       I tried but could not find everything I need                         \n",
       "4  I need someone from Insider team to provide me...                         "
      ]
     },
     "execution_count": 3,
     "metadata": {},
     "output_type": "execute_result"
    }
   ],
   "source": [
    "# CSAT_Survey\n",
    "csat_survey_data_df = pd.read_csv(\"data/CSAT_Survey_Data.csv\")\n",
    "\n",
    "csat_survey_data_df.head()"
   ]
  },
  {
   "cell_type": "markdown",
   "id": "ae1f1d8c3b535e53",
   "metadata": {},
   "source": [
    "Burada Csat Survey columnlarını açıkla"
   ]
  },
  {
   "cell_type": "markdown",
   "id": "8881e51148e057f0",
   "metadata": {},
   "source": [
    "### Customer Age"
   ]
  },
  {
   "cell_type": "code",
   "execution_count": 4,
   "id": "269ea68c631c2950",
   "metadata": {
    "ExecuteTime": {
     "end_time": "2025-03-02T17:26:29.378275Z",
     "start_time": "2025-03-02T17:26:29.362739Z"
    }
   },
   "outputs": [
    {
     "data": {
      "text/html": [
       "<div>\n",
       "<style scoped>\n",
       "    .dataframe tbody tr th:only-of-type {\n",
       "        vertical-align: middle;\n",
       "    }\n",
       "\n",
       "    .dataframe tbody tr th {\n",
       "        vertical-align: top;\n",
       "    }\n",
       "\n",
       "    .dataframe thead th {\n",
       "        text-align: right;\n",
       "    }\n",
       "</style>\n",
       "<table border=\"1\" class=\"dataframe\">\n",
       "  <thead>\n",
       "    <tr style=\"text-align: right;\">\n",
       "      <th></th>\n",
       "      <th>CRM ID</th>\n",
       "      <th>Customer Age (Months)</th>\n",
       "    </tr>\n",
       "  </thead>\n",
       "  <tbody>\n",
       "    <tr>\n",
       "      <th>0</th>\n",
       "      <td>CRM-1471650</td>\n",
       "      <td>24</td>\n",
       "    </tr>\n",
       "    <tr>\n",
       "      <th>1</th>\n",
       "      <td>CRM-1516050</td>\n",
       "      <td>13</td>\n",
       "    </tr>\n",
       "    <tr>\n",
       "      <th>2</th>\n",
       "      <td>CRM-1087300</td>\n",
       "      <td>25</td>\n",
       "    </tr>\n",
       "    <tr>\n",
       "      <th>3</th>\n",
       "      <td>CRM-1467150</td>\n",
       "      <td>12</td>\n",
       "    </tr>\n",
       "    <tr>\n",
       "      <th>4</th>\n",
       "      <td>CRM-230550</td>\n",
       "      <td>12</td>\n",
       "    </tr>\n",
       "  </tbody>\n",
       "</table>\n",
       "</div>"
      ],
      "text/plain": [
       "        CRM ID  Customer Age (Months)\n",
       "0  CRM-1471650                     24\n",
       "1  CRM-1516050                     13\n",
       "2  CRM-1087300                     25\n",
       "3  CRM-1467150                     12\n",
       "4   CRM-230550                     12"
      ]
     },
     "execution_count": 4,
     "metadata": {},
     "output_type": "execute_result"
    }
   ],
   "source": [
    "# Customer_Age\n",
    "customer_age_df = pd.read_csv(\"data/Customer_Age_Data.csv\")\n",
    "\n",
    "customer_age_df.head()"
   ]
  },
  {
   "cell_type": "code",
   "execution_count": 5,
   "id": "9ef83ffeab7cf3d7",
   "metadata": {
    "ExecuteTime": {
     "end_time": "2025-03-02T17:26:30.652607Z",
     "start_time": "2025-03-02T17:26:30.648369Z"
    }
   },
   "outputs": [
    {
     "name": "stdout",
     "output_type": "stream",
     "text": [
      "Customer Age Shape:\n",
      "(2651, 2)\n"
     ]
    }
   ],
   "source": [
    "print(\"Customer Age Shape:\")\n",
    "print(customer_age_df.shape)"
   ]
  },
  {
   "cell_type": "code",
   "execution_count": 6,
   "id": "9bd16bdf6e106e3",
   "metadata": {
    "ExecuteTime": {
     "end_time": "2025-03-02T17:26:32.614760Z",
     "start_time": "2025-03-02T17:26:32.597833Z"
    }
   },
   "outputs": [
    {
     "name": "stdout",
     "output_type": "stream",
     "text": [
      "Customer Age Data Types: \n",
      "CRM ID                   object\n",
      "Customer Age (Months)     int64\n",
      "dtype: object\n"
     ]
    }
   ],
   "source": [
    "print(\"Customer Age Data Types: \")\n",
    "print(customer_age_df.dtypes)"
   ]
  },
  {
   "cell_type": "code",
   "execution_count": 7,
   "id": "f226c817eda27120",
   "metadata": {
    "ExecuteTime": {
     "end_time": "2025-03-02T17:26:33.882673Z",
     "start_time": "2025-03-02T17:26:33.878114Z"
    }
   },
   "outputs": [
    {
     "name": "stdout",
     "output_type": "stream",
     "text": [
      "Missing Values for Customer Age Data:\n",
      "CRM ID                   0\n",
      "Customer Age (Months)    0\n",
      "dtype: int64\n"
     ]
    }
   ],
   "source": [
    "print(\"Missing Values for Customer Age Data:\")\n",
    "print(customer_age_df.isnull().sum())"
   ]
  },
  {
   "cell_type": "code",
   "execution_count": 8,
   "id": "7ba425513de481ae",
   "metadata": {
    "ExecuteTime": {
     "end_time": "2025-03-02T17:26:35.252778Z",
     "start_time": "2025-03-02T17:26:35.201197Z"
    }
   },
   "outputs": [
    {
     "name": "stdout",
     "output_type": "stream",
     "text": [
      "Number of duplicate rows:\n",
      "0\n"
     ]
    }
   ],
   "source": [
    "print(\"Number of duplicate rows:\")\n",
    "print(customer_age_df.duplicated().sum())\n"
   ]
  },
  {
   "cell_type": "code",
   "execution_count": 9,
   "id": "d9376a5b25838685",
   "metadata": {
    "ExecuteTime": {
     "end_time": "2025-03-02T17:26:36.238364Z",
     "start_time": "2025-03-02T17:26:36.228251Z"
    }
   },
   "outputs": [
    {
     "name": "stdout",
     "output_type": "stream",
     "text": [
      "Summary Statistics for Customer Age Data:\n",
      "       Customer Age (Months)\n",
      "count            2651.000000\n",
      "mean               20.077707\n",
      "std                16.427542\n",
      "min                 1.000000\n",
      "25%                 7.000000\n",
      "50%                15.000000\n",
      "75%                27.000000\n",
      "max                72.000000\n"
     ]
    }
   ],
   "source": [
    "print(f\"Summary Statistics for Customer Age Data:\")\n",
    "print(customer_age_df.describe())"
   ]
  },
  {
   "cell_type": "code",
   "execution_count": 10,
   "id": "d6d7062ad3e1cc29",
   "metadata": {
    "ExecuteTime": {
     "end_time": "2025-03-02T17:26:38.024719Z",
     "start_time": "2025-03-02T17:26:38.017931Z"
    }
   },
   "outputs": [
    {
     "name": "stdout",
     "output_type": "stream",
     "text": [
      "Customer Retention Metrics:\n",
      "6-month retention rate: 82.35%\n",
      "12-month retention rate: 63.79%\n",
      "24-month retention rate: 33.16%\n"
     ]
    }
   ],
   "source": [
    "retention_6m = 100 * (customer_age_df['Customer Age (Months)'] >= 6).sum() / len(customer_age_df)\n",
    "retention_12m = 100 * (customer_age_df['Customer Age (Months)'] >= 12).sum() / len(customer_age_df)\n",
    "retention_24m = 100 * (customer_age_df['Customer Age (Months)'] >= 24).sum() / len(customer_age_df)\n",
    "\n",
    "print(\"Customer Retention Metrics:\")\n",
    "print(f\"6-month retention rate: {retention_6m:.2f}%\")\n",
    "print(f\"12-month retention rate: {retention_12m:.2f}%\")\n",
    "print(f\"24-month retention rate: {retention_24m:.2f}%\")"
   ]
  },
  {
   "cell_type": "code",
   "execution_count": 11,
   "id": "414c55e61f6b1b32",
   "metadata": {
    "ExecuteTime": {
     "end_time": "2025-03-02T17:30:24.612462Z",
     "start_time": "2025-03-02T17:30:24.582919Z"
    }
   },
   "outputs": [
    {
     "name": "stdout",
     "output_type": "stream",
     "text": [
      "Number of customers older than 27 months: 660\n"
     ]
    }
   ],
   "source": [
    "num_customers_above_27 = customer_age_df[customer_age_df[\"Customer Age (Months)\"] > 27].shape[0]\n",
    "print(\"Number of customers older than 27 months:\", num_customers_above_27)\n"
   ]
  },
  {
   "cell_type": "code",
   "execution_count": 12,
   "id": "1534aa002db8d4da",
   "metadata": {
    "ExecuteTime": {
     "end_time": "2025-03-02T17:30:26.686039Z",
     "start_time": "2025-03-02T17:30:26.324401Z"
    }
   },
   "outputs": [
    {
     "data": {
      "image/png": "[encoded data removed]",
      "text/plain": [
       "<Figure size 1000x600 with 1 Axes>"
      ]
     },
     "metadata": {},
     "output_type": "display_data"
    }
   ],
   "source": [
    "plt.figure(figsize=(10, 6))\n",
    "\n",
    "sns.histplot(data=customer_age_df, x='Customer Age (Months)', kde=True, color='steelblue')\n",
    "plt.axvline(customer_age_df['Customer Age (Months)'].mean(), color='red', linestyle='--',\n",
    "            label=f'Mean: {customer_age_df[\"Customer Age (Months)\"].mean():.1f} months')\n",
    "plt.axvline(customer_age_df['Customer Age (Months)'].median(), color='green', linestyle='--',\n",
    "            label=f'Median: {customer_age_df[\"Customer Age (Months)\"].median():.1f} months')\n",
    "\n",
    "plt.title('Customer Age Distribution', fontsize=15)\n",
    "plt.xlabel('Age (Months)', fontsize=12)\n",
    "plt.ylabel('Number of Customers', fontsize=12)\n",
    "plt.legend()\n",
    "plt.show()"
   ]
  },
  {
   "cell_type": "code",
   "execution_count": null,
   "id": "0c653c0e",
   "metadata": {},
   "outputs": [
    {
     "data": {
      "text/plain": [
       "Text(0.5, 0, 'Age (Months)')"
      ]
     },
     "execution_count": 15,
     "metadata": {},
     "output_type": "execute_result"
    },
    {
     "data": {
      "image/png": "[encoded data removed]",
      "text/plain": [
       "<Figure size 1000x600 with 1 Axes>"
      ]
     },
     "metadata": {},
     "output_type": "display_data"
    }
   ],
   "source": [
    "plt.figure(figsize=(10, 6))\n",
    "sns.boxplot(x=customer_age_df['Customer Age (Months)'], color='steelblue')\n",
    "\n",
    "# Customizing the plot\n",
    "plt.title('Customer Age Boxplot', fontsize=15)\n",
    "plt.xlabel('Age (Months)', fontsize=12)\n",
    "\n",
    "# Display the plot"
   ]
  },
  {
   "cell_type": "markdown",
   "id": "57baea1702b63605",
   "metadata": {},
   "source": [
    "From these outputs;\n",
    "\n",
    "* There are total **2651** customers for Age Dataset\n",
    "* There is **widely spread** in Customer Age from 1 month customers to 72 months customers with standard deviation of 16.4.\n",
    "* According to **percentiles** and Graphs; Customer Age distribution is **Positively (Right) Skewed**.\n",
    "\n"
   ]
  },
  {
   "cell_type": "markdown",
   "id": "c3ca898a7d564dca",
   "metadata": {},
   "source": [
    "* About 75% of customers have been with the company for 27 months or less, This means most of the users are new.\n",
    "* 6-month retention rate of 82.35%, but it drops to 63.79% at 12 months and further falls to 33.16% at 24 months. This rapid decrease between 12-24 months shows that many customers leave before they hit the two-year mark.\n",
    "* Could be focused on **mid-long term** to customers to reduce loss, and increase tenured customers.\n",
    "* By examining the nature of long-term customer interactions, we can gain insights and develop strategies that can extended user engagement. Such insights can then be used to cultivate a loyal customer base over time.\n",
    "* The boxplot shows some values as outliers, but they likely represent **long-term customers**. Dropping them is not necessary unless there are missing or inconsistent customer IDs. Further investigation is needed before making any adjustments."
   ]
  },
  {
   "cell_type": "markdown",
   "id": "29fbafa42432bbac",
   "metadata": {},
   "source": [
    "### Customer MRR (iNCELENECEK)"
   ]
  },
  {
   "cell_type": "code",
   "execution_count": 18,
   "id": "da3412fb84ccbb6e",
   "metadata": {
    "ExecuteTime": {
     "end_time": "2025-03-02T17:30:29.531697Z",
     "start_time": "2025-03-02T17:30:29.521288Z"
    }
   },
   "outputs": [
    {
     "data": {
      "text/html": [
       "<div>\n",
       "<style scoped>\n",
       "    .dataframe tbody tr th:only-of-type {\n",
       "        vertical-align: middle;\n",
       "    }\n",
       "\n",
       "    .dataframe tbody tr th {\n",
       "        vertical-align: top;\n",
       "    }\n",
       "\n",
       "    .dataframe thead th {\n",
       "        text-align: right;\n",
       "    }\n",
       "</style>\n",
       "<table border=\"1\" class=\"dataframe\">\n",
       "  <thead>\n",
       "    <tr style=\"text-align: right;\">\n",
       "      <th></th>\n",
       "      <th>Customer ID</th>\n",
       "      <th>MRR</th>\n",
       "    </tr>\n",
       "  </thead>\n",
       "  <tbody>\n",
       "    <tr>\n",
       "      <th>0</th>\n",
       "      <td>CRM-5454800</td>\n",
       "      <td>$8,212</td>\n",
       "    </tr>\n",
       "    <tr>\n",
       "      <th>1</th>\n",
       "      <td>CRM-5479950</td>\n",
       "      <td>$2,026</td>\n",
       "    </tr>\n",
       "    <tr>\n",
       "      <th>2</th>\n",
       "      <td>CRM-5494800</td>\n",
       "      <td>$2,100</td>\n",
       "    </tr>\n",
       "    <tr>\n",
       "      <th>3</th>\n",
       "      <td>CRM-5598450</td>\n",
       "      <td>$2,900</td>\n",
       "    </tr>\n",
       "    <tr>\n",
       "      <th>4</th>\n",
       "      <td>CRM-5602550</td>\n",
       "      <td>$1,898</td>\n",
       "    </tr>\n",
       "  </tbody>\n",
       "</table>\n",
       "</div>"
      ],
      "text/plain": [
       "   Customer ID     MRR\n",
       "0  CRM-5454800  $8,212\n",
       "1  CRM-5479950  $2,026\n",
       "2  CRM-5494800  $2,100\n",
       "3  CRM-5598450  $2,900\n",
       "4  CRM-5602550  $1,898"
      ]
     },
     "execution_count": 18,
     "metadata": {},
     "output_type": "execute_result"
    }
   ],
   "source": [
    "# Customer MRR\n",
    "customer_mrr_df = pd.read_csv(\"data/Customer_MRR_Data.csv\")\n",
    "\n",
    "customer_mrr_df.head()"
   ]
  },
  {
   "cell_type": "code",
   "execution_count": 19,
   "id": "5dea9314b6a96235",
   "metadata": {
    "ExecuteTime": {
     "end_time": "2025-03-02T17:30:31.212299Z",
     "start_time": "2025-03-02T17:30:31.204616Z"
    }
   },
   "outputs": [
    {
     "name": "stdout",
     "output_type": "stream",
     "text": [
      "(1380, 2)\n"
     ]
    }
   ],
   "source": [
    "print(customer_mrr_df.shape)"
   ]
  },
  {
   "cell_type": "markdown",
   "id": "65ab504c06bfabf2",
   "metadata": {},
   "source": [
    "* It appears that some of the customers in MRR data is missing, possibly due to their customer type or current customer type within the company, resulting in the absence of valid data at this time."
   ]
  },
  {
   "cell_type": "code",
   "execution_count": 20,
   "id": "58586e8cf127fa7b",
   "metadata": {
    "ExecuteTime": {
     "end_time": "2025-03-02T17:30:32.950515Z",
     "start_time": "2025-03-02T17:30:32.945802Z"
    }
   },
   "outputs": [
    {
     "name": "stdout",
     "output_type": "stream",
     "text": [
      "MRR Data Types: \n",
      "Customer ID    object\n",
      "MRR            object\n",
      "dtype: object\n"
     ]
    }
   ],
   "source": [
    "print(\"MRR Data Types: \")\n",
    "print(customer_mrr_df.dtypes)"
   ]
  },
  {
   "cell_type": "markdown",
   "id": "ac35699a8191293d",
   "metadata": {},
   "source": [
    "Since MRR is currently represented as an object with the currency symbol *'$'*, it should be converted to an integer value for proper analysis."
   ]
  },
  {
   "cell_type": "code",
   "execution_count": 21,
   "id": "f947958f4bd37469",
   "metadata": {
    "ExecuteTime": {
     "end_time": "2025-03-02T17:47:59.967964Z",
     "start_time": "2025-03-02T17:47:59.963384Z"
    }
   },
   "outputs": [],
   "source": [
    "# Convert MRR to integer\n",
    "customer_mrr_df['MRR'] = customer_mrr_df['MRR'].replace({r'\\$': '', r',': ''}, regex=True).astype(np.int64)"
   ]
  },
  {
   "cell_type": "code",
   "execution_count": 23,
   "id": "5f89211c14f292b0",
   "metadata": {
    "ExecuteTime": {
     "end_time": "2025-03-02T17:48:00.810250Z",
     "start_time": "2025-03-02T17:48:00.799576Z"
    }
   },
   "outputs": [
    {
     "name": "stdout",
     "output_type": "stream",
     "text": [
      "Customer ID    object\n",
      "MRR             int64\n",
      "dtype: object\n"
     ]
    },
    {
     "data": {
      "text/html": [
       "<div>\n",
       "<style scoped>\n",
       "    .dataframe tbody tr th:only-of-type {\n",
       "        vertical-align: middle;\n",
       "    }\n",
       "\n",
       "    .dataframe tbody tr th {\n",
       "        vertical-align: top;\n",
       "    }\n",
       "\n",
       "    .dataframe thead th {\n",
       "        text-align: right;\n",
       "    }\n",
       "</style>\n",
       "<table border=\"1\" class=\"dataframe\">\n",
       "  <thead>\n",
       "    <tr style=\"text-align: right;\">\n",
       "      <th></th>\n",
       "      <th>Customer ID</th>\n",
       "      <th>MRR</th>\n",
       "    </tr>\n",
       "  </thead>\n",
       "  <tbody>\n",
       "    <tr>\n",
       "      <th>0</th>\n",
       "      <td>CRM-5454800</td>\n",
       "      <td>8212</td>\n",
       "    </tr>\n",
       "    <tr>\n",
       "      <th>1</th>\n",
       "      <td>CRM-5479950</td>\n",
       "      <td>2026</td>\n",
       "    </tr>\n",
       "    <tr>\n",
       "      <th>2</th>\n",
       "      <td>CRM-5494800</td>\n",
       "      <td>2100</td>\n",
       "    </tr>\n",
       "    <tr>\n",
       "      <th>3</th>\n",
       "      <td>CRM-5598450</td>\n",
       "      <td>2900</td>\n",
       "    </tr>\n",
       "    <tr>\n",
       "      <th>4</th>\n",
       "      <td>CRM-5602550</td>\n",
       "      <td>1898</td>\n",
       "    </tr>\n",
       "  </tbody>\n",
       "</table>\n",
       "</div>"
      ],
      "text/plain": [
       "   Customer ID   MRR\n",
       "0  CRM-5454800  8212\n",
       "1  CRM-5479950  2026\n",
       "2  CRM-5494800  2100\n",
       "3  CRM-5598450  2900\n",
       "4  CRM-5602550  1898"
      ]
     },
     "execution_count": 23,
     "metadata": {},
     "output_type": "execute_result"
    }
   ],
   "source": [
    "print(customer_mrr_df.dtypes)\n",
    "customer_mrr_df.head()"
   ]
  },
  {
   "cell_type": "code",
   "execution_count": 24,
   "id": "64a1f0259abd84e5",
   "metadata": {
    "ExecuteTime": {
     "end_time": "2025-03-02T17:48:02.661955Z",
     "start_time": "2025-03-02T17:48:02.657372Z"
    }
   },
   "outputs": [
    {
     "name": "stdout",
     "output_type": "stream",
     "text": [
      "Missing Values for Customer MRR Data:\n",
      "Customer ID    0\n",
      "MRR            0\n",
      "dtype: int64\n"
     ]
    }
   ],
   "source": [
    "print(\"Missing Values for Customer MRR Data:\")\n",
    "print(customer_mrr_df.isnull().sum())"
   ]
  },
  {
   "cell_type": "code",
   "execution_count": 25,
   "id": "6fcc53e51f6efffa",
   "metadata": {
    "ExecuteTime": {
     "end_time": "2025-03-02T17:48:03.473913Z",
     "start_time": "2025-03-02T17:48:03.464697Z"
    }
   },
   "outputs": [
    {
     "name": "stdout",
     "output_type": "stream",
     "text": [
      "Number of duplicate rows:\n",
      "0\n"
     ]
    }
   ],
   "source": [
    "print(\"Number of duplicate rows:\")\n",
    "print(customer_age_df.duplicated().sum())"
   ]
  },
  {
   "cell_type": "code",
   "execution_count": 26,
   "id": "6f63c40c9ca6ca4f",
   "metadata": {
    "ExecuteTime": {
     "end_time": "2025-03-02T17:48:04.535832Z",
     "start_time": "2025-03-02T17:48:04.529575Z"
    }
   },
   "outputs": [
    {
     "name": "stdout",
     "output_type": "stream",
     "text": [
      "Summary Statistics for Customer MRR Data:\n",
      "                MRR\n",
      "count   1380.000000\n",
      "mean    3933.708696\n",
      "std     5279.234169\n",
      "min       26.000000\n",
      "25%     1152.250000\n",
      "50%     2424.000000\n",
      "75%     4680.250000\n",
      "max    62732.000000\n"
     ]
    }
   ],
   "source": [
    "print(f\"Summary Statistics for Customer MRR Data:\")\n",
    "print(customer_mrr_df.describe())"
   ]
  },
  {
   "cell_type": "code",
   "execution_count": 27,
   "id": "d4f1399bd7818d5b",
   "metadata": {
    "ExecuteTime": {
     "end_time": "2025-03-02T17:30:42.122339Z",
     "start_time": "2025-03-02T17:30:41.951448Z"
    }
   },
   "outputs": [
    {
     "data": {
      "image/png": "[encoded data removed]",
      "text/plain": [
       "<Figure size 1000x600 with 1 Axes>"
      ]
     },
     "metadata": {},
     "output_type": "display_data"
    }
   ],
   "source": [
    "plt.figure(figsize=(10, 6))\n",
    "\n",
    "sns.histplot(data=customer_mrr_df, x='MRR', kde=True, color='steelblue')\n",
    "plt.axvline(customer_mrr_df['MRR'].mean(), color='red', linestyle='--',\n",
    "            label=f'Mean: {customer_mrr_df[\"MRR\"].mean():.1f} dollar')\n",
    "plt.axvline(customer_mrr_df['MRR'].median(), color='green', linestyle='--',\n",
    "            label=f'Median: {customer_mrr_df[\"MRR\"].median():.1f} dollar')\n",
    "\n",
    "plt.title('Customer MRR Distribution', fontsize=15)\n",
    "plt.xlabel('MRR', fontsize=12)\n",
    "plt.ylabel('Number of Customers', fontsize=12)\n",
    "plt.legend()\n",
    "plt.show()"
   ]
  },
  {
   "cell_type": "code",
   "execution_count": 28,
   "id": "e81f4f8f",
   "metadata": {},
   "outputs": [
    {
     "data": {
      "text/plain": [
       "Text(0.5, 0, 'MRR ($)')"
      ]
     },
     "execution_count": 28,
     "metadata": {},
     "output_type": "execute_result"
    },
    {
     "data": {
      "image/png": "[encoded data removed]",
      "text/plain": [
       "<Figure size 1000x600 with 1 Axes>"
      ]
     },
     "metadata": {},
     "output_type": "display_data"
    }
   ],
   "source": [
    "plt.figure(figsize=(10, 6))\n",
    "sns.boxplot(x=customer_mrr_df['MRR'], color='steelblue')\n",
    "\n",
    "# Customizing the plot\n",
    "plt.title('Customer MRR Boxplot', fontsize=15)\n",
    "plt.xlabel('MRR ($)', fontsize=12)\n",
    "\n",
    "# Display the plot"
   ]
  },
  {
   "cell_type": "markdown",
   "id": "32f0aedc4f03c65",
   "metadata": {},
   "source": [
    "From these we obtain these results;\n",
    "\n",
    "* The histograms show **Strong Positive (Right) Skew** with many customers fall behind the MMR value of $ 5000 dollars (75%)\n",
    "\n",
    "\n",
    "* Customers shows high volatile spending on E-Corp with standard deviation of **$ 5300**."
   ]
  },
  {
   "cell_type": "markdown",
   "id": "192c625afd547497",
   "metadata": {},
   "source": [
    "### Customer Revenue (İNCELENECEK)"
   ]
  },
  {
   "cell_type": "code",
   "execution_count": 119,
   "id": "165fd8af25b94546",
   "metadata": {
    "ExecuteTime": {
     "end_time": "2025-03-02T18:53:35.122535Z",
     "start_time": "2025-03-02T18:53:35.111832Z"
    }
   },
   "outputs": [
    {
     "data": {
      "text/html": [
       "<div>\n",
       "<style scoped>\n",
       "    .dataframe tbody tr th:only-of-type {\n",
       "        vertical-align: middle;\n",
       "    }\n",
       "\n",
       "    .dataframe tbody tr th {\n",
       "        vertical-align: top;\n",
       "    }\n",
       "\n",
       "    .dataframe thead th {\n",
       "        text-align: right;\n",
       "    }\n",
       "</style>\n",
       "<table border=\"1\" class=\"dataframe\">\n",
       "  <thead>\n",
       "    <tr style=\"text-align: right;\">\n",
       "      <th></th>\n",
       "      <th>Customer ID</th>\n",
       "      <th>Total Revenue</th>\n",
       "    </tr>\n",
       "  </thead>\n",
       "  <tbody>\n",
       "    <tr>\n",
       "      <th>0</th>\n",
       "      <td>CRM-1470950</td>\n",
       "      <td>$732,199</td>\n",
       "    </tr>\n",
       "    <tr>\n",
       "      <th>1</th>\n",
       "      <td>CRM-1526100</td>\n",
       "      <td>$0</td>\n",
       "    </tr>\n",
       "    <tr>\n",
       "      <th>2</th>\n",
       "      <td>CRM-1506400</td>\n",
       "      <td>$375,135</td>\n",
       "    </tr>\n",
       "    <tr>\n",
       "      <th>3</th>\n",
       "      <td>CRM-1430550</td>\n",
       "      <td>$0</td>\n",
       "    </tr>\n",
       "    <tr>\n",
       "      <th>4</th>\n",
       "      <td>CRM-1485600</td>\n",
       "      <td>$116,732</td>\n",
       "    </tr>\n",
       "    <tr>\n",
       "      <th>...</th>\n",
       "      <td>...</td>\n",
       "      <td>...</td>\n",
       "    </tr>\n",
       "    <tr>\n",
       "      <th>896</th>\n",
       "      <td>CRM-783450</td>\n",
       "      <td>$16,527</td>\n",
       "    </tr>\n",
       "    <tr>\n",
       "      <th>897</th>\n",
       "      <td>CRM-1500500</td>\n",
       "      <td>$0</td>\n",
       "    </tr>\n",
       "    <tr>\n",
       "      <th>898</th>\n",
       "      <td>CRM-155450</td>\n",
       "      <td>$567,026</td>\n",
       "    </tr>\n",
       "    <tr>\n",
       "      <th>899</th>\n",
       "      <td>CRM-1499600</td>\n",
       "      <td>$15,967,518</td>\n",
       "    </tr>\n",
       "    <tr>\n",
       "      <th>900</th>\n",
       "      <td>CRM-1451550</td>\n",
       "      <td>$30,478</td>\n",
       "    </tr>\n",
       "  </tbody>\n",
       "</table>\n",
       "<p>901 rows × 2 columns</p>\n",
       "</div>"
      ],
      "text/plain": [
       "     Customer ID Total Revenue\n",
       "0    CRM-1470950      $732,199\n",
       "1    CRM-1526100            $0\n",
       "2    CRM-1506400      $375,135\n",
       "3    CRM-1430550            $0\n",
       "4    CRM-1485600      $116,732\n",
       "..           ...           ...\n",
       "896   CRM-783450       $16,527\n",
       "897  CRM-1500500            $0\n",
       "898   CRM-155450      $567,026\n",
       "899  CRM-1499600   $15,967,518\n",
       "900  CRM-1451550       $30,478\n",
       "\n",
       "[901 rows x 2 columns]"
      ]
     },
     "execution_count": 119,
     "metadata": {},
     "output_type": "execute_result"
    }
   ],
   "source": [
    "# Customer Revenue\n",
    "\n",
    "customer_revenue = pd.read_csv(\"data/Customer_Revenue_Data.csv\")\n",
    "\n",
    "customer_revenue"
   ]
  },
  {
   "cell_type": "code",
   "execution_count": 120,
   "id": "ff3a48d1b4a19a93",
   "metadata": {
    "ExecuteTime": {
     "end_time": "2025-03-02T18:53:36.745429Z",
     "start_time": "2025-03-02T18:53:36.742098Z"
    }
   },
   "outputs": [
    {
     "name": "stdout",
     "output_type": "stream",
     "text": [
      "(901, 2)\n"
     ]
    }
   ],
   "source": [
    "print(customer_revenue.shape)"
   ]
  },
  {
   "cell_type": "markdown",
   "id": "3ce586ab2ab68e27",
   "metadata": {},
   "source": [
    "* The **901** customers shows there is much less information than MRR"
   ]
  },
  {
   "cell_type": "code",
   "execution_count": 121,
   "id": "191f9ea54056f4f7",
   "metadata": {
    "ExecuteTime": {
     "end_time": "2025-03-02T18:53:37.686346Z",
     "start_time": "2025-03-02T18:53:37.681921Z"
    }
   },
   "outputs": [
    {
     "name": "stdout",
     "output_type": "stream",
     "text": [
      "Customer Revenue Types: \n",
      "Customer ID      object\n",
      "Total Revenue    object\n",
      "dtype: object\n"
     ]
    }
   ],
   "source": [
    "print(\"Customer Revenue Types: \")\n",
    "print(customer_revenue.dtypes)"
   ]
  },
  {
   "cell_type": "code",
   "execution_count": 124,
   "id": "b58f5c8fec4cf03d",
   "metadata": {
    "ExecuteTime": {
     "end_time": "2025-03-02T18:53:55.020719Z",
     "start_time": "2025-03-02T18:53:55.012335Z"
    }
   },
   "outputs": [],
   "source": [
    "\n",
    "customer_revenue['Total Revenue'] = customer_revenue['Total Revenue'].replace({r'\\$': '', r',': ''}, regex=True).astype(np.int64)"
   ]
  },
  {
   "cell_type": "code",
   "execution_count": 125,
   "id": "f0917b4f2a2b0235",
   "metadata": {
    "ExecuteTime": {
     "end_time": "2025-03-02T18:53:56.867759Z",
     "start_time": "2025-03-02T18:53:56.856703Z"
    }
   },
   "outputs": [
    {
     "name": "stdout",
     "output_type": "stream",
     "text": [
      "Customer Revenue Types: \n",
      "Customer ID      object\n",
      "Total Revenue     int64\n",
      "dtype: object\n"
     ]
    }
   ],
   "source": [
    "print(\"Customer Revenue Types: \")\n",
    "print(customer_revenue.dtypes)"
   ]
  },
  {
   "cell_type": "code",
   "execution_count": 126,
   "id": "209da4e63f55030c",
   "metadata": {
    "ExecuteTime": {
     "end_time": "2025-03-02T18:53:57.892630Z",
     "start_time": "2025-03-02T18:53:57.885630Z"
    }
   },
   "outputs": [
    {
     "data": {
      "text/html": [
       "<div>\n",
       "<style scoped>\n",
       "    .dataframe tbody tr th:only-of-type {\n",
       "        vertical-align: middle;\n",
       "    }\n",
       "\n",
       "    .dataframe tbody tr th {\n",
       "        vertical-align: top;\n",
       "    }\n",
       "\n",
       "    .dataframe thead th {\n",
       "        text-align: right;\n",
       "    }\n",
       "</style>\n",
       "<table border=\"1\" class=\"dataframe\">\n",
       "  <thead>\n",
       "    <tr style=\"text-align: right;\">\n",
       "      <th></th>\n",
       "      <th>Customer ID</th>\n",
       "      <th>Total Revenue</th>\n",
       "    </tr>\n",
       "  </thead>\n",
       "  <tbody>\n",
       "    <tr>\n",
       "      <th>0</th>\n",
       "      <td>CRM-1470950</td>\n",
       "      <td>732199</td>\n",
       "    </tr>\n",
       "    <tr>\n",
       "      <th>1</th>\n",
       "      <td>CRM-1526100</td>\n",
       "      <td>0</td>\n",
       "    </tr>\n",
       "    <tr>\n",
       "      <th>2</th>\n",
       "      <td>CRM-1506400</td>\n",
       "      <td>375135</td>\n",
       "    </tr>\n",
       "    <tr>\n",
       "      <th>3</th>\n",
       "      <td>CRM-1430550</td>\n",
       "      <td>0</td>\n",
       "    </tr>\n",
       "    <tr>\n",
       "      <th>4</th>\n",
       "      <td>CRM-1485600</td>\n",
       "      <td>116732</td>\n",
       "    </tr>\n",
       "    <tr>\n",
       "      <th>...</th>\n",
       "      <td>...</td>\n",
       "      <td>...</td>\n",
       "    </tr>\n",
       "    <tr>\n",
       "      <th>896</th>\n",
       "      <td>CRM-783450</td>\n",
       "      <td>16527</td>\n",
       "    </tr>\n",
       "    <tr>\n",
       "      <th>897</th>\n",
       "      <td>CRM-1500500</td>\n",
       "      <td>0</td>\n",
       "    </tr>\n",
       "    <tr>\n",
       "      <th>898</th>\n",
       "      <td>CRM-155450</td>\n",
       "      <td>567026</td>\n",
       "    </tr>\n",
       "    <tr>\n",
       "      <th>899</th>\n",
       "      <td>CRM-1499600</td>\n",
       "      <td>15967518</td>\n",
       "    </tr>\n",
       "    <tr>\n",
       "      <th>900</th>\n",
       "      <td>CRM-1451550</td>\n",
       "      <td>30478</td>\n",
       "    </tr>\n",
       "  </tbody>\n",
       "</table>\n",
       "<p>901 rows × 2 columns</p>\n",
       "</div>"
      ],
      "text/plain": [
       "     Customer ID  Total Revenue\n",
       "0    CRM-1470950         732199\n",
       "1    CRM-1526100              0\n",
       "2    CRM-1506400         375135\n",
       "3    CRM-1430550              0\n",
       "4    CRM-1485600         116732\n",
       "..           ...            ...\n",
       "896   CRM-783450          16527\n",
       "897  CRM-1500500              0\n",
       "898   CRM-155450         567026\n",
       "899  CRM-1499600       15967518\n",
       "900  CRM-1451550          30478\n",
       "\n",
       "[901 rows x 2 columns]"
      ]
     },
     "execution_count": 126,
     "metadata": {},
     "output_type": "execute_result"
    }
   ],
   "source": [
    "customer_revenue"
   ]
  },
  {
   "cell_type": "code",
   "execution_count": 127,
   "id": "b8a4a72b37658dc5",
   "metadata": {
    "ExecuteTime": {
     "end_time": "2025-03-02T18:54:00.308972Z",
     "start_time": "2025-03-02T18:54:00.302656Z"
    }
   },
   "outputs": [
    {
     "name": "stdout",
     "output_type": "stream",
     "text": [
      "Missing Values for Customer Revenue Data:\n",
      "Customer ID      0\n",
      "Total Revenue    0\n",
      "dtype: int64\n"
     ]
    }
   ],
   "source": [
    "print(\"Missing Values for Customer Revenue Data:\")\n",
    "print(customer_revenue.isnull().sum())"
   ]
  },
  {
   "cell_type": "code",
   "execution_count": 128,
   "id": "8a620703f31318e1",
   "metadata": {
    "ExecuteTime": {
     "end_time": "2025-03-02T18:54:01.183799Z",
     "start_time": "2025-03-02T18:54:01.175018Z"
    }
   },
   "outputs": [
    {
     "name": "stdout",
     "output_type": "stream",
     "text": [
      "Number of duplicate rows:\n",
      "0\n"
     ]
    }
   ],
   "source": [
    "print(\"Number of duplicate rows:\")\n",
    "print(customer_revenue.duplicated().sum())"
   ]
  },
  {
   "cell_type": "code",
   "execution_count": 129,
   "id": "c6accfa5db5ca0ea",
   "metadata": {
    "ExecuteTime": {
     "end_time": "2025-03-02T18:54:02.221677Z",
     "start_time": "2025-03-02T18:54:02.213761Z"
    }
   },
   "outputs": [
    {
     "name": "stdout",
     "output_type": "stream",
     "text": [
      "Summary Statistics for Customer Revenue Data:\n",
      "       Total Revenue\n",
      "count   9.010000e+02\n",
      "mean    1.259107e+07\n",
      "std     1.218891e+08\n",
      "min     0.000000e+00\n",
      "25%     5.790000e+02\n",
      "50%     6.074100e+04\n",
      "75%     4.542900e+05\n",
      "max     2.789805e+09\n"
     ]
    }
   ],
   "source": [
    "print(f\"Summary Statistics for Customer Revenue Data:\")\n",
    "print(customer_revenue.describe())"
   ]
  },
  {
   "cell_type": "code",
   "execution_count": 109,
   "id": "b2a06a695be0dac3",
   "metadata": {
    "ExecuteTime": {
     "end_time": "2025-03-02T18:46:46.481390Z",
     "start_time": "2025-03-02T18:46:46.474876Z"
    }
   },
   "outputs": [
    {
     "name": "stdout",
     "output_type": "stream",
     "text": [
      "     Customer ID  Total Revenue\n",
      "5    CRM-1548450        3128751\n",
      "19    CRM-150500      175293442\n",
      "26   CRM-1464800        2227584\n",
      "37   CRM-1501100       27956189\n",
      "38   CRM-1559050        1812341\n",
      "..           ...            ...\n",
      "871   CRM-626250        3451604\n",
      "873   CRM-617450       30414659\n",
      "874   CRM-608250        1802794\n",
      "879  CRM-1492950       45226966\n",
      "899  CRM-1499600       15967518\n",
      "\n",
      "[143 rows x 2 columns]\n"
     ]
    }
   ],
   "source": [
    "# Calculate the first and third quartiles\n",
    "Q1 = customer_revenue['Total Revenue'].quantile(0.25)\n",
    "Q3 = customer_revenue['Total Revenue'].quantile(0.75)\n",
    "IQR = Q3 - Q1\n",
    "\n",
    "# Define the upper bound for outliers\n",
    "upper_bound = Q3 + 1.5 * IQR\n",
    "\n",
    "# Filter the DataFrame to get outliers\n",
    "outliers = customer_revenue[customer_revenue['Total Revenue'] > upper_bound]\n",
    "\n",
    "# Display the outliers\n",
    "print(outliers)\n"
   ]
  },
  {
   "cell_type": "code",
   "execution_count": 110,
   "id": "210392eedf11de6c",
   "metadata": {
    "ExecuteTime": {
     "end_time": "2025-03-02T18:47:32.611481Z",
     "start_time": "2025-03-02T18:47:32.409679Z"
    }
   },
   "outputs": [
    {
     "data": {
      "image/png": "[encoded data removed]",
      "text/plain": [
       "<Figure size 1600x600 with 2 Axes>"
      ]
     },
     "metadata": {},
     "output_type": "display_data"
    }
   ],
   "source": [
    "import matplotlib.pyplot as plt\n",
    "\n",
    "# Assuming customer_revenue DataFrame is already loaded and cleaned.\n",
    "\n",
    "# Create a figure with two subplots: one for histogram and one for box plot.\n",
    "fig, axes = plt.subplots(1, 2, figsize=(16, 6))\n",
    "\n",
    "# Histogram plot with outliers\n",
    "axes[0].hist(customer_revenue['Total Revenue'], bins=50, color='skyblue', edgecolor='black')\n",
    "axes[0].set_title('Histogram of Total Revenue')\n",
    "axes[0].set_xlabel('Total Revenue')\n",
    "axes[0].set_ylabel('Frequency')\n",
    "# Optionally, use a log scale if the distribution is highly skewed\n",
    "# axes[0].set_xscale('log')\n",
    "\n",
    "# Box plot for Total Revenue\n",
    "axes[1].boxplot(customer_revenue['Total Revenue'], vert=False)\n",
    "axes[1].set_title('Box Plot of Total Revenue')\n",
    "axes[1].set_xlabel('Total Revenue')\n",
    "\n",
    "plt.tight_layout()\n",
    "plt.show()\n"
   ]
  },
  {
   "cell_type": "markdown",
   "id": "a5dde325ebdabdf",
   "metadata": {},
   "source": [
    "### Help Ticket"
   ]
  },
  {
   "cell_type": "code",
   "execution_count": 95,
   "id": "cd3c3c33bf26a988",
   "metadata": {
    "ExecuteTime": {
     "end_time": "2025-03-02T18:56:38.274298Z",
     "start_time": "2025-03-02T18:56:38.261613Z"
    }
   },
   "outputs": [
    {
     "data": {
      "text/html": [
       "<div>\n",
       "<style scoped>\n",
       "    .dataframe tbody tr th:only-of-type {\n",
       "        vertical-align: middle;\n",
       "    }\n",
       "\n",
       "    .dataframe tbody tr th {\n",
       "        vertical-align: top;\n",
       "    }\n",
       "\n",
       "    .dataframe thead th {\n",
       "        text-align: right;\n",
       "    }\n",
       "</style>\n",
       "<table border=\"1\" class=\"dataframe\">\n",
       "  <thead>\n",
       "    <tr style=\"text-align: right;\">\n",
       "      <th></th>\n",
       "      <th>Customer ID</th>\n",
       "      <th>Help Ticket Count</th>\n",
       "      <th>Help Ticket Lead Time (hours)</th>\n",
       "    </tr>\n",
       "  </thead>\n",
       "  <tbody>\n",
       "    <tr>\n",
       "      <th>0</th>\n",
       "      <td>CRM-1516050</td>\n",
       "      <td>9</td>\n",
       "      <td>418</td>\n",
       "    </tr>\n",
       "    <tr>\n",
       "      <th>1</th>\n",
       "      <td>CRM-1467150</td>\n",
       "      <td>8</td>\n",
       "      <td>382</td>\n",
       "    </tr>\n",
       "    <tr>\n",
       "      <th>2</th>\n",
       "      <td>CRM-1470950</td>\n",
       "      <td>30</td>\n",
       "      <td>366</td>\n",
       "    </tr>\n",
       "    <tr>\n",
       "      <th>3</th>\n",
       "      <td>CRM-1526100</td>\n",
       "      <td>4</td>\n",
       "      <td>1206</td>\n",
       "    </tr>\n",
       "    <tr>\n",
       "      <th>4</th>\n",
       "      <td>CRM-1506400</td>\n",
       "      <td>22</td>\n",
       "      <td>484</td>\n",
       "    </tr>\n",
       "  </tbody>\n",
       "</table>\n",
       "</div>"
      ],
      "text/plain": [
       "   Customer ID  Help Ticket Count  Help Ticket Lead Time (hours)\n",
       "0  CRM-1516050                  9                            418\n",
       "1  CRM-1467150                  8                            382\n",
       "2  CRM-1470950                 30                            366\n",
       "3  CRM-1526100                  4                           1206\n",
       "4  CRM-1506400                 22                            484"
      ]
     },
     "execution_count": 95,
     "metadata": {},
     "output_type": "execute_result"
    }
   ],
   "source": [
    "# Help ticket\n",
    "\n",
    "help_ticket = pd.read_csv(\"data/Help_Ticket_Data.csv\")\n",
    "\n",
    "help_ticket.head()"
   ]
  },
  {
   "cell_type": "code",
   "execution_count": 96,
   "id": "93104d4908878ce0",
   "metadata": {
    "ExecuteTime": {
     "end_time": "2025-03-02T18:56:39.398790Z",
     "start_time": "2025-03-02T18:56:39.387526Z"
    }
   },
   "outputs": [
    {
     "name": "stdout",
     "output_type": "stream",
     "text": [
      "Help Ticket Shape:\n",
      "(1367, 3)\n"
     ]
    }
   ],
   "source": [
    "print(\"Help Ticket Shape:\")\n",
    "print(help_ticket.shape)\n"
   ]
  },
  {
   "cell_type": "code",
   "execution_count": 97,
   "id": "8ca1d6e2b629bdad",
   "metadata": {
    "ExecuteTime": {
     "end_time": "2025-03-02T18:56:51.349092Z",
     "start_time": "2025-03-02T18:56:51.343626Z"
    }
   },
   "outputs": [
    {
     "name": "stdout",
     "output_type": "stream",
     "text": [
      "Helpt Ticket Data Types: \n",
      "Customer ID                      object\n",
      "Help Ticket Count                 int64\n",
      "Help Ticket Lead Time (hours)     int64\n",
      "dtype: object\n"
     ]
    }
   ],
   "source": [
    "print(\"Helpt Ticket Data Types: \")\n",
    "print(help_ticket.dtypes)"
   ]
  },
  {
   "cell_type": "code",
   "execution_count": 98,
   "id": "e878323b55ae99cd",
   "metadata": {
    "ExecuteTime": {
     "end_time": "2025-03-02T18:57:01.305045Z",
     "start_time": "2025-03-02T18:57:01.300800Z"
    }
   },
   "outputs": [
    {
     "name": "stdout",
     "output_type": "stream",
     "text": [
      "Missing Values for Help Ticket Data:\n",
      "Customer ID                      0\n",
      "Help Ticket Count                0\n",
      "Help Ticket Lead Time (hours)    0\n",
      "dtype: int64\n"
     ]
    }
   ],
   "source": [
    "print(\"Missing Values for Help Ticket Data:\")\n",
    "print(help_ticket.isnull().sum())"
   ]
  },
  {
   "cell_type": "code",
   "execution_count": 100,
   "id": "55962c85e7a02500",
   "metadata": {
    "ExecuteTime": {
     "end_time": "2025-03-02T18:57:37.644065Z",
     "start_time": "2025-03-02T18:57:37.639356Z"
    }
   },
   "outputs": [
    {
     "name": "stdout",
     "output_type": "stream",
     "text": [
      "Number of duplicate rows in Customer ID:\n",
      "0\n"
     ]
    }
   ],
   "source": [
    "print(\"Number of duplicate rows in Customer ID:\")\n",
    "print(help_ticket['Customer ID'].duplicated().sum())\n"
   ]
  },
  {
   "cell_type": "code",
   "execution_count": 101,
   "id": "54b75108",
   "metadata": {},
   "outputs": [
    {
     "name": "stdout",
     "output_type": "stream",
     "text": [
      "Number of duplicate rows based on the columns: 54\n",
      " \n",
      "Duplicates for (Help Ticket Count=1, Lead Time=77):\n",
      "     Customer ID  Help Ticket Count  Help Ticket Lead Time (hours)\n",
      "359  CRM-1485850                  1                             77\n",
      "912  CRM-1538350                  1                             77\n",
      " \n",
      "Duplicates for (Help Ticket Count=1, Lead Time=97):\n",
      "     Customer ID  Help Ticket Count  Help Ticket Lead Time (hours)\n",
      "172  CRM-1441700                  1                             97\n",
      "197  CRM-1519950                  1                             97\n",
      " \n",
      "Duplicates for (Help Ticket Count=1, Lead Time=247):\n",
      "      Customer ID  Help Ticket Count  Help Ticket Lead Time (hours)\n",
      "781    CRM-796500                  1                            247\n",
      "1131  CRM-1480950                  1                            247\n",
      " \n",
      "Duplicates for (Help Ticket Count=1, Lead Time=301):\n",
      "      Customer ID  Help Ticket Count  Help Ticket Lead Time (hours)\n",
      "511   CRM-1352350                  1                            301\n",
      "513   CRM-1477700                  1                            301\n",
      "514   CRM-1477750                  1                            301\n",
      "516   CRM-1352450                  1                            301\n",
      "517   CRM-1477800                  1                            301\n",
      "518   CRM-1477500                  1                            301\n",
      "519   CRM-1477850                  1                            301\n",
      "521   CRM-1477900                  1                            301\n",
      "522   CRM-1477550                  1                            301\n",
      "1104  CRM-1471950                  1                            301\n",
      " \n",
      "Duplicates for (Help Ticket Count=1, Lead Time=315):\n",
      "      Customer ID  Help Ticket Count  Help Ticket Lead Time (hours)\n",
      "1002  CRM-1464600                  1                            315\n",
      "1360   CRM-783450                  1                            315\n",
      " \n",
      "Duplicates for (Help Ticket Count=1, Lead Time=377):\n",
      "     Customer ID  Help Ticket Count  Help Ticket Lead Time (hours)\n",
      "688   CRM-189700                  1                            377\n",
      "892  CRM-1443550                  1                            377\n",
      " \n",
      "Duplicates for (Help Ticket Count=1, Lead Time=384):\n",
      "      Customer ID  Help Ticket Count  Help Ticket Lead Time (hours)\n",
      "216   CRM-1492450                  1                            384\n",
      "1305  CRM-1551800                  1                            384\n",
      " \n",
      "Duplicates for (Help Ticket Count=1, Lead Time=430):\n",
      "      Customer ID  Help Ticket Count  Help Ticket Lead Time (hours)\n",
      "588   CRM-1521650                  1                            430\n",
      "1072  CRM-1597150                  1                            430\n",
      " \n",
      "Duplicates for (Help Ticket Count=1, Lead Time=484):\n",
      "     Customer ID  Help Ticket Count  Help Ticket Lead Time (hours)\n",
      "343  CRM-1501300                  1                            484\n",
      "601  CRM-1577050                  1                            484\n",
      " \n",
      "Duplicates for (Help Ticket Count=2, Lead Time=165):\n",
      "      Customer ID  Help Ticket Count  Help Ticket Lead Time (hours)\n",
      "1052  CRM-1473500                  2                            165\n",
      "1252  CRM-1586750                  2                            165\n",
      " \n",
      "Duplicates for (Help Ticket Count=2, Lead Time=241):\n",
      "     Customer ID  Help Ticket Count  Help Ticket Lead Time (hours)\n",
      "771  CRM-1487950                  2                            241\n",
      "924   CRM-281300                  2                            241\n",
      " \n",
      "Duplicates for (Help Ticket Count=2, Lead Time=312):\n",
      "     Customer ID  Help Ticket Count  Help Ticket Lead Time (hours)\n",
      "112   CRM-828400                  2                            312\n",
      "692  CRM-1572850                  2                            312\n",
      " \n",
      "Duplicates for (Help Ticket Count=2, Lead Time=551):\n",
      "     Customer ID  Help Ticket Count  Help Ticket Lead Time (hours)\n",
      "613  CRM-1537400                  2                            551\n",
      "628  CRM-1506700                  2                            551\n",
      " \n",
      "Duplicates for (Help Ticket Count=2, Lead Time=631):\n",
      "     Customer ID  Help Ticket Count  Help Ticket Lead Time (hours)\n",
      "148   CRM-156350                  2                            631\n",
      "226  CRM-1456600                  2                            631\n",
      " \n",
      "Duplicates for (Help Ticket Count=3, Lead Time=245):\n",
      "      Customer ID  Help Ticket Count  Help Ticket Lead Time (hours)\n",
      "724   CRM-1517550                  3                            245\n",
      "1355  CRM-1488450                  3                            245\n",
      " \n",
      "Duplicates for (Help Ticket Count=3, Lead Time=278):\n",
      "      Customer ID  Help Ticket Count  Help Ticket Lead Time (hours)\n",
      "1022  CRM-1471900                  3                            278\n",
      "1122   CRM-151800                  3                            278\n",
      " \n",
      "Duplicates for (Help Ticket Count=5, Lead Time=437):\n",
      "     Customer ID  Help Ticket Count  Help Ticket Lead Time (hours)\n",
      "774  CRM-1488000                  5                            437\n",
      "906  CRM-1520350                  5                            437\n",
      " \n",
      "Duplicates for (Help Ticket Count=6, Lead Time=572):\n",
      "     Customer ID  Help Ticket Count  Help Ticket Lead Time (hours)\n",
      "939  CRM-1453500                  6                            572\n",
      "942  CRM-1517250                  6                            572\n",
      " \n",
      "Duplicates for (Help Ticket Count=6, Lead Time=925):\n",
      "      Customer ID  Help Ticket Count  Help Ticket Lead Time (hours)\n",
      "1039  CRM-1506000                  6                            925\n",
      "1040  CRM-1506050                  6                            925\n",
      " \n",
      "Duplicates for (Help Ticket Count=7, Lead Time=314):\n",
      "     Customer ID  Help Ticket Count  Help Ticket Lead Time (hours)\n",
      "798  CRM-1357850                  7                            314\n",
      "987  CRM-1478750                  7                            314\n",
      " \n",
      "Duplicates for (Help Ticket Count=8, Lead Time=326):\n",
      "     Customer ID  Help Ticket Count  Help Ticket Lead Time (hours)\n",
      "147  CRM-1552200                  8                            326\n",
      "341  CRM-1468700                  8                            326\n",
      " \n",
      "Duplicates for (Help Ticket Count=8, Lead Time=649):\n",
      "     Customer ID  Help Ticket Count  Help Ticket Lead Time (hours)\n",
      "625  CRM-1482700                  8                            649\n",
      "847  CRM-1512600                  8                            649\n",
      " \n",
      "Duplicates for (Help Ticket Count=21, Lead Time=412):\n",
      "     Customer ID  Help Ticket Count  Help Ticket Lead Time (hours)\n",
      "747   CRM-606600                 21                            412\n",
      "976  CRM-1516600                 21                            412\n"
     ]
    }
   ],
   "source": [
    "duplicates = help_ticket[help_ticket.duplicated(\n",
    "    subset=['Help Ticket Count', 'Help Ticket Lead Time (hours)'], keep=False)]\n",
    "print(\"Number of duplicate rows based on the columns:\", duplicates.shape[0])\n",
    "\n",
    "duplicate_groups = help_ticket.groupby(['Help Ticket Count', 'Help Ticket Lead Time (hours)'])\n",
    "for (ticket_count, lead_time), group in duplicate_groups:\n",
    "    if len(group) > 1:\n",
    "        print(\" \")\n",
    "        print(f\"Duplicates for (Help Ticket Count={ticket_count}, Lead Time={lead_time}):\")\n",
    "        print(group[['Customer ID', 'Help Ticket Count', 'Help Ticket Lead Time (hours)']])\n"
   ]
  },
  {
   "cell_type": "markdown",
   "id": "81059950",
   "metadata": {},
   "source": [
    "* In **Help Ticket Dataset**, Customer ID values show no duplication, same as the other datasets examined. Each Customer ID is unique. But;\n",
    "* The analysis shows that **54 customers** share identical values for both **Help Ticket Count** and **Help Ticket Lead Time (hours)**.\n",
    "* While some overlap in service metrics might occur by chance, the presence of multiple customers with exactly the same values warrants further investigation.\n",
    "  - For instance, the group with **(Help Ticket Count=1, Lead Time=301)** contains **10 customers**.\n",
    "  - Similarly, the group with **(Help Ticket Count=21, Lead Time=412)** includes **2 customers**.\n",
    "  - Etc...\n",
    "- While some duplicated metric values might occur by coincidence, the high frequency of identical entries suggests that most are unlikely to be random.\n",
    "- This pattern could indicate issues in data entry or recording, which may distort the overall analysis and misinform customer service performance assessments.\n",
    "- It is advisable to review the data collection and processing methods to verify the accuracy of these entries before drawing final conclusions on customer service metrics."
   ]
  },
  {
   "cell_type": "code",
   "execution_count": 102,
   "id": "ea731c42b763c06",
   "metadata": {
    "ExecuteTime": {
     "end_time": "2025-03-02T19:05:06.167966Z",
     "start_time": "2025-03-02T19:05:06.160368Z"
    }
   },
   "outputs": [
    {
     "name": "stdout",
     "output_type": "stream",
     "text": [
      "Summary Statistics for Help Ticket Data:\n",
      "       Help Ticket Count  Help Ticket Lead Time (hours)\n",
      "count        1367.000000                    1367.000000\n",
      "mean           17.397952                     786.302853\n",
      "std            25.354291                     672.856978\n",
      "min             1.000000                       0.000000\n",
      "25%             3.000000                     387.500000\n",
      "50%             9.000000                     603.000000\n",
      "75%            22.000000                     976.000000\n",
      "max           443.000000                   11632.000000\n"
     ]
    }
   ],
   "source": [
    "print(f\"Summary Statistics for Help Ticket Data:\")\n",
    "print(help_ticket.describe())"
   ]
  },
  {
   "cell_type": "code",
   "execution_count": 104,
   "id": "9ac0c237",
   "metadata": {},
   "outputs": [
    {
     "data": {
      "image/png": "[encoded data removed]",
      "text/plain": [
       "<Figure size 1600x600 with 2 Axes>"
      ]
     },
     "metadata": {},
     "output_type": "display_data"
    }
   ],
   "source": [
    "fig, axes = plt.subplots(1, 2, figsize=(16, 6))\n",
    "\n",
    "sns.histplot(help_ticket['Help Ticket Count'], kde=True, color='steelblue', ax=axes[0])\n",
    "axes[0].axvline(help_ticket['Help Ticket Count'].mean(), color='red', linestyle='--',\n",
    "                label=f'Mean: {help_ticket[\"Help Ticket Count\"].mean():.1f}')\n",
    "axes[0].axvline(help_ticket['Help Ticket Count'].median(), color='green', linestyle='--',\n",
    "                label=f'Median: {help_ticket[\"Help Ticket Count\"].median():.1f}')\n",
    "axes[0].set_title(\"Distribution of Help Ticket Count\")\n",
    "axes[0].set_xlabel(\"Help Ticket Count\")\n",
    "axes[0].legend()\n",
    "\n",
    "sns.histplot(help_ticket['Help Ticket Lead Time (hours)'], kde=True, color='steelblue', ax=axes[1])\n",
    "axes[1].axvline(help_ticket['Help Ticket Lead Time (hours)'].mean(), color='red', linestyle='--',\n",
    "                label=f'Mean: {help_ticket[\"Help Ticket Lead Time (hours)\"].mean():.1f}')\n",
    "axes[1].axvline(help_ticket['Help Ticket Lead Time (hours)'].median(), color='green', linestyle='--',\n",
    "                label=f'Median: {help_ticket[\"Help Ticket Lead Time (hours)\"].median():.1f}')\n",
    "axes[1].set_title(\"Distribution of Help Ticket Lead Time (hours)\")\n",
    "axes[1].set_xlabel(\"Lead Time (hours)\")\n",
    "axes[1].legend()\n",
    "\n",
    "plt.tight_layout()\n",
    "plt.show()\n"
   ]
  },
  {
   "cell_type": "code",
   "execution_count": 83,
   "id": "aaff0881",
   "metadata": {},
   "outputs": [
    {
     "data": {
      "image/png": "[encoded data removed]",
      "text/plain": [
       "<Figure size 800x400 with 1 Axes>"
      ]
     },
     "metadata": {},
     "output_type": "display_data"
    },
    {
     "data": {
      "image/png": "[encoded data removed]",
      "text/plain": [
       "<Figure size 800x400 with 1 Axes>"
      ]
     },
     "metadata": {},
     "output_type": "display_data"
    }
   ],
   "source": [
    "# Boxplot for Help Ticket Count\n",
    "plt.figure(figsize=(8, 4))\n",
    "sns.boxplot(x=help_ticket['Help Ticket Count'], color='steelblue')\n",
    "plt.title(\"Boxplot of Help Ticket Count\")\n",
    "plt.xlabel(\"Help Ticket Count\")\n",
    "plt.show()\n",
    "\n",
    "# Boxplot for Help Ticket Lead Time\n",
    "plt.figure(figsize=(8, 4))\n",
    "sns.boxplot(x=help_ticket['Help Ticket Lead Time (hours)'], color='steelblue')\n",
    "plt.title(\"Boxplot of Help Ticket Lead Time (hours)\")\n",
    "plt.xlabel(\"Lead Time (hours)\")\n",
    "plt.show()\n"
   ]
  },
  {
   "cell_type": "markdown",
   "id": "f2023ac2",
   "metadata": {},
   "source": [
    "* Histogram, Box Plots Distributions and Statistical Analysis;\n",
    "* Both of the graphs are **Positively (Right) Skew** and very high tails.\n",
    "* The presence of the extreme values in both **Help Ticket Count** and **Help Ticket Lead** can distort the mean, making it less representative of the distribution\n",
    "\n",
    "* In **Help Ticket Lead**; \n",
    "    - Extended lead times may result from unresolved tickets or gaps in recordkeeping (e.g., tickets not being properly closed).\n",
    "    - Analyzing these cases and reasons can help identify issues in customer product usage, potentially highlighting areas for service improvement.\n",
    "* In **Help Ticket Count**; \n",
    "    - Examining the frequency of ticket submissions can uncover recurring issues and enable proactive measures to address systemic problems.\n",
    "    - Duplicate or erroneous records—such as multiple entries for the same issue—can artificially inflate the ticket count, necessitating careful data validation.\n",
    "\n",
    "\n",
    "* Investigating outliers is crucial to distinguish between genuine customer concerns and data errors. This detailed analysis ensures that the derived insights are accurate and support effective decision-making."
   ]
  },
  {
   "cell_type": "code",
   "execution_count": 89,
   "id": "aea1261c",
   "metadata": {},
   "outputs": [
    {
     "name": "stdout",
     "output_type": "stream",
     "text": [
      "Outliers in Help Ticket Count:\n",
      "      Customer ID  Help Ticket Count\n",
      "29     CRM-150500                443\n",
      "30     CRM-835900                 52\n",
      "46    CRM-1456200                 72\n",
      "107    CRM-329450                 57\n",
      "116   CRM-1103750                 64\n",
      "156   CRM-1290050                 61\n",
      "160    CRM-558200                112\n",
      "175   CRM-1494150                 52\n",
      "182   CRM-1494000                 82\n",
      "187   CRM-1468200                 74\n",
      "196   CRM-1437350                 57\n",
      "198   CRM-1460150                 70\n",
      "200    CRM-927200                 71\n",
      "205    CRM-556900                 68\n",
      "210   CRM-1471600                 62\n",
      "218   CRM-1494300                 65\n",
      "221   CRM-1437050                 66\n",
      "222   CRM-1515700                 59\n",
      "223   CRM-1002400                 55\n",
      "225   CRM-1483050                 57\n",
      "239    CRM-156100                 53\n",
      "246    CRM-510050                 55\n",
      "249   CRM-1467750                 89\n",
      "264    CRM-724550                 86\n",
      "276   CRM-1483600                 74\n",
      "289    CRM-159200                 84\n",
      "299   CRM-1503600                 51\n",
      "302    CRM-158700                 53\n",
      "322    CRM-167000                104\n",
      "324   CRM-1509200                 63\n",
      "328    CRM-157450                 54\n",
      "372    CRM-387600                 96\n",
      "401    CRM-316250                114\n",
      "402    CRM-414650                 55\n",
      "407    CRM-714600                 98\n",
      "423   CRM-1525900                 65\n",
      "440   CRM-1546550                 55\n",
      "463    CRM-158600                 54\n",
      "475    CRM-280750                 78\n",
      "503   CRM-1336650                 64\n",
      "504   CRM-1495450                 76\n",
      "546   CRM-1252550                100\n",
      "555    CRM-998800                139\n",
      "562   CRM-1457100                 61\n",
      "563   CRM-1493200                 77\n",
      "578    CRM-151150                 77\n",
      "580   CRM-1478550                 78\n",
      "597   CRM-1524100                 83\n",
      "630    CRM-160550                 57\n",
      "638   CRM-1473700                 55\n",
      "648   CRM-1526650                 54\n",
      "667    CRM-160150                186\n",
      "673   CRM-1030300                 65\n",
      "678    CRM-711000                 77\n",
      "681   CRM-1489750                 90\n",
      "723   CRM-1446600                121\n",
      "734   CRM-1455250                 78\n",
      "751    CRM-158250                 68\n",
      "754    CRM-515000                188\n",
      "756   CRM-1283250                113\n",
      "765    CRM-160000                 66\n",
      "766    CRM-169100                127\n",
      "793   CRM-1557750                 52\n",
      "796   CRM-1477300                 55\n",
      "817   CRM-1516650                 66\n",
      "835   CRM-1454600                 53\n",
      "854   CRM-1543650                 57\n",
      "888   CRM-1476950                 67\n",
      "889   CRM-1477000                111\n",
      "890   CRM-1477050                 65\n",
      "908   CRM-1091150                 67\n",
      "934    CRM-563450                 56\n",
      "949   CRM-1444400                 70\n",
      "955    CRM-912150                 61\n",
      "958    CRM-317450                 76\n",
      "965   CRM-1442150                 54\n",
      "1001  CRM-1457950                 86\n",
      "1068  CRM-1486150                 82\n",
      "1078  CRM-1493850                 69\n",
      "1079  CRM-1479000                 83\n",
      "1101   CRM-161600                277\n",
      "1108  CRM-1462000                 69\n",
      "1127   CRM-153750                 85\n",
      "1153   CRM-993250                 68\n",
      "1173   CRM-176450                 85\n",
      "1182   CRM-165750                 62\n",
      "1191  CRM-1441500                 63\n",
      "1192  CRM-1513550                 78\n",
      "1231   CRM-160300                 67\n",
      "1239  CRM-1459100                114\n",
      "1240  CRM-1498000                 76\n",
      "1246  CRM-1501000                 68\n",
      "1248   CRM-172100                 82\n",
      "1254  CRM-1528100                 88\n",
      "1273  CRM-1455300                 86\n",
      "1279  CRM-1028200                 76\n",
      "1282   CRM-289850                 56\n",
      "1291  CRM-1453900                101\n",
      "1295  CRM-1451200                 67\n",
      "1302   CRM-531350                 53\n",
      "1315   CRM-394200                 94\n",
      "1317   CRM-626250                 64\n",
      "1320   CRM-608250                 68\n",
      "1322   CRM-714500                110\n",
      "1358   CRM-152550                 59\n",
      "1359   CRM-169200                 57\n"
     ]
    }
   ],
   "source": [
    "Q1_count = help_ticket['Help Ticket Count'].quantile(0.25)\n",
    "Q3_count = help_ticket['Help Ticket Count'].quantile(0.75)\n",
    "IQR_count = Q3_count - Q1_count\n",
    "\n",
    "outliers_count = help_ticket[(help_ticket['Help Ticket Count'] < Q1_count - 1.5 * IQR_count) |\n",
    "                                (help_ticket['Help Ticket Count'] > Q3_count + 1.5 * IQR_count)]\n",
    "print(\"Outliers in Help Ticket Count:\")\n",
    "print(outliers_count[['Customer ID', 'Help Ticket Count']])\n"
   ]
  },
  {
   "cell_type": "code",
   "execution_count": 90,
   "id": "d687590a",
   "metadata": {},
   "outputs": [
    {
     "name": "stdout",
     "output_type": "stream",
     "text": [
      "Outliers in Help Ticket Lead Time (hours):\n",
      "      Customer ID  Help Ticket Lead Time (hours)\n",
      "36    CRM-1467350                           2480\n",
      "43    CRM-1458050                           2221\n",
      "70     CRM-706750                           2049\n",
      "74    CRM-1493700                           2277\n",
      "76     CRM-401300                           2027\n",
      "90     CRM-175300                           1931\n",
      "96     CRM-753900                           4446\n",
      "145   CRM-1177150                           2151\n",
      "157    CRM-237150                           2797\n",
      "180   CRM-1485650                           1954\n",
      "185   CRM-1267450                           1865\n",
      "189    CRM-198350                           2129\n",
      "263    CRM-340500                          11632\n",
      "278   CRM-1458300                           2111\n",
      "280    CRM-756850                           2237\n",
      "304   CRM-1500400                           2012\n",
      "305   CRM-1165250                           3125\n",
      "311   CRM-1473350                           2546\n",
      "385   CRM-1531100                           1889\n",
      "404   CRM-1553150                           2090\n",
      "429    CRM-270350                           3343\n",
      "507    CRM-206250                           2240\n",
      "537    CRM-743950                           2270\n",
      "547    CRM-270250                           2348\n",
      "556   CRM-1488500                           1903\n",
      "571   CRM-1483100                           2158\n",
      "594   CRM-1466450                           2510\n",
      "596   CRM-1551150                           2545\n",
      "619   CRM-1052100                           2114\n",
      "629   CRM-1518200                           2258\n",
      "639   CRM-1472600                           1939\n",
      "641    CRM-927450                           3477\n",
      "656   CRM-1474650                           2270\n",
      "660   CRM-1068750                           3922\n",
      "698   CRM-1420550                           2734\n",
      "704    CRM-156400                           2110\n",
      "736   CRM-1499350                           2287\n",
      "743    CRM-271550                           3764\n",
      "745   CRM-1468300                           1985\n",
      "748   CRM-1484300                           3501\n",
      "755   CRM-1453750                           2618\n",
      "756   CRM-1283250                           2237\n",
      "760   CRM-1486000                           2833\n",
      "773   CRM-1285450                           2574\n",
      "785    CRM-381600                           3012\n",
      "790   CRM-1493350                           2006\n",
      "792   CRM-1456000                           1879\n",
      "800    CRM-326850                           2973\n",
      "805   CRM-1488600                           3637\n",
      "839   CRM-1459800                           3636\n",
      "863    CRM-950500                           2636\n",
      "871   CRM-1484650                           2298\n",
      "876    CRM-241400                           3200\n",
      "895    CRM-261400                           3291\n",
      "896   CRM-1450050                           3625\n",
      "920   CRM-1560700                           2332\n",
      "936    CRM-581600                           3083\n",
      "974    CRM-494250                           1958\n",
      "997    CRM-914900                           2623\n",
      "1005  CRM-1461200                           1911\n",
      "1048  CRM-1005900                           2709\n",
      "1092  CRM-1494700                           2407\n",
      "1119  CRM-1486500                           2594\n",
      "1138   CRM-966450                           1991\n",
      "1141  CRM-1466350                           2281\n",
      "1163   CRM-156700                           2459\n",
      "1179   CRM-665100                           5691\n",
      "1185  CRM-1538750                           2059\n",
      "1220  CRM-1478850                           2629\n",
      "1238   CRM-160050                           1924\n",
      "1256   CRM-459950                           2096\n",
      "1268  CRM-1472100                           2127\n",
      "1294   CRM-151700                           2295\n",
      "1331   CRM-152000                           3539\n",
      "1332  CRM-1468400                           2127\n",
      "1339  CRM-1496650                           1870\n",
      "1340   CRM-517600                           2353\n",
      "1357   CRM-153700                           2050\n"
     ]
    }
   ],
   "source": [
    "Q1_lead = help_ticket['Help Ticket Lead Time (hours)'].quantile(0.25)\n",
    "Q3_lead = help_ticket['Help Ticket Lead Time (hours)'].quantile(0.75)\n",
    "IQR_lead = Q3_lead - Q1_lead\n",
    "\n",
    "outliers_lead = help_ticket[(help_ticket['Help Ticket Lead Time (hours)'] < Q1_lead - 1.5 * IQR_lead) |\n",
    "                               (help_ticket['Help Ticket Lead Time (hours)'] > Q3_lead + 1.5 * IQR_lead)]\n",
    "print(\"Outliers in Help Ticket Lead Time (hours):\")\n",
    "print(outliers_lead[['Customer ID', 'Help Ticket Lead Time (hours)']])\n"
   ]
  },
  {
   "cell_type": "code",
   "execution_count": 93,
   "id": "928be515",
   "metadata": {},
   "outputs": [
    {
     "data": {
      "image/png": "[encoded data removed]",
      "text/plain": [
       "<Figure size 800x600 with 1 Axes>"
      ]
     },
     "metadata": {},
     "output_type": "display_data"
    },
    {
     "name": "stdout",
     "output_type": "stream",
     "text": [
      "Pearson Correlation: -0.03\n",
      "P-value: 0.3027\n"
     ]
    }
   ],
   "source": [
    "\n",
    "from scipy.stats import pearsonr\n",
    "\n",
    "plt.figure(figsize=(8, 6))\n",
    "sns.scatterplot(x='Help Ticket Count', y='Help Ticket Lead Time (hours)', data=help_ticket, color='steelblue')\n",
    "plt.title(\"Help Ticket Count vs. Lead Time (hours)\")\n",
    "plt.xlabel(\"Help Ticket Count\")\n",
    "plt.ylabel(\"Lead Time (hours)\")\n",
    "plt.show()\n",
    "\n",
    "\n",
    "corr_value, p_value = pearsonr(\n",
    "    help_ticket['Help Ticket Count'],\n",
    "    help_ticket['Help Ticket Lead Time (hours)']\n",
    ")\n",
    "\n",
    "print(f\"Pearson Correlation: {corr_value:.2f}\")\n",
    "print(f\"P-value: {p_value:.4f}\")\n"
   ]
  },
  {
   "cell_type": "markdown",
   "id": "f6b482bba4b7e077",
   "metadata": {},
   "source": [
    "* From the obtained results and plots;\n",
    "- Correlation Coefficient: A Pearson correlation of **-0.03** is very close to zero, indicating essentially no linear relationship between **Help Ticket Count** and **Help Ticket Lead Time**.\n",
    "- Statistical Significance: With a **p-value of 0.3027** (greater than 0.05), the result is not statistically significant."
   ]
  },
  {
   "cell_type": "markdown",
   "id": "257f8e75751c2642",
   "metadata": {},
   "source": [
    "### Newsletter Interaction"
   ]
  },
  {
   "cell_type": "code",
   "execution_count": 120,
   "id": "971c704fd0b2f8ff",
   "metadata": {
    "ExecuteTime": {
     "end_time": "2025-02-26T10:32:20.089121Z",
     "start_time": "2025-02-26T10:32:20.082621Z"
    }
   },
   "outputs": [
    {
     "data": {
      "text/html": [
       "<div>\n",
       "<style scoped>\n",
       "    .dataframe tbody tr th:only-of-type {\n",
       "        vertical-align: middle;\n",
       "    }\n",
       "\n",
       "    .dataframe tbody tr th {\n",
       "        vertical-align: top;\n",
       "    }\n",
       "\n",
       "    .dataframe thead th {\n",
       "        text-align: right;\n",
       "    }\n",
       "</style>\n",
       "<table border=\"1\" class=\"dataframe\">\n",
       "  <thead>\n",
       "    <tr style=\"text-align: right;\">\n",
       "      <th></th>\n",
       "      <th>Customer ID</th>\n",
       "      <th>Company Newsletter Interaction Count</th>\n",
       "    </tr>\n",
       "  </thead>\n",
       "  <tbody>\n",
       "    <tr>\n",
       "      <th>0</th>\n",
       "      <td>CRM-160150</td>\n",
       "      <td>54</td>\n",
       "    </tr>\n",
       "    <tr>\n",
       "      <th>1</th>\n",
       "      <td>CRM-166800</td>\n",
       "      <td>27</td>\n",
       "    </tr>\n",
       "    <tr>\n",
       "      <th>2</th>\n",
       "      <td>CRM-927200</td>\n",
       "      <td>24</td>\n",
       "    </tr>\n",
       "    <tr>\n",
       "      <th>3</th>\n",
       "      <td>CRM-1526050</td>\n",
       "      <td>23</td>\n",
       "    </tr>\n",
       "    <tr>\n",
       "      <th>4</th>\n",
       "      <td>CRM-1489600</td>\n",
       "      <td>20</td>\n",
       "    </tr>\n",
       "  </tbody>\n",
       "</table>\n",
       "</div>"
      ],
      "text/plain": [
       "   Customer ID  Company Newsletter Interaction Count\n",
       "0   CRM-160150                                    54\n",
       "1   CRM-166800                                    27\n",
       "2   CRM-927200                                    24\n",
       "3  CRM-1526050                                    23\n",
       "4  CRM-1489600                                    20"
      ]
     },
     "execution_count": 120,
     "metadata": {},
     "output_type": "execute_result"
    }
   ],
   "source": [
    "# Newsletter Interaction\n",
    "\n",
    "newsletter_df = pd.read_csv(\"data/Newsletter_Interaction_Data.csv\")\n",
    "\n",
    "newsletter_df.head()"
   ]
  },
  {
   "cell_type": "code",
   "execution_count": 121,
   "id": "7b237679",
   "metadata": {},
   "outputs": [
    {
     "name": "stdout",
     "output_type": "stream",
     "text": [
      "Shape of Newsletter Dataset:\n",
      "(251, 2)\n"
     ]
    }
   ],
   "source": [
    "print(\"Shape of Newsletter Dataset:\")\n",
    "print(newsletter_df.shape)"
   ]
  },
  {
   "cell_type": "code",
   "execution_count": 122,
   "id": "f30a2ea4",
   "metadata": {},
   "outputs": [
    {
     "name": "stdout",
     "output_type": "stream",
     "text": [
      "Customer Newsletter  Data Types: \n",
      "Customer ID                             object\n",
      "Company Newsletter Interaction Count     int64\n",
      "dtype: object\n"
     ]
    }
   ],
   "source": [
    "print(\"Customer Newsletter  Data Types: \")\n",
    "print(newsletter_df.dtypes)"
   ]
  },
  {
   "cell_type": "code",
   "execution_count": 123,
   "id": "35aa9f33",
   "metadata": {},
   "outputs": [
    {
     "name": "stdout",
     "output_type": "stream",
     "text": [
      "Missing Values for Customer Newsletter Data:\n",
      "Customer ID                             0\n",
      "Company Newsletter Interaction Count    0\n",
      "dtype: int64\n"
     ]
    }
   ],
   "source": [
    "print(\"Missing Values for Customer Newsletter Data:\")\n",
    "print(newsletter_df.isnull().sum())"
   ]
  },
  {
   "cell_type": "code",
   "execution_count": 124,
   "id": "db71aacd",
   "metadata": {},
   "outputs": [
    {
     "name": "stdout",
     "output_type": "stream",
     "text": [
      "Number of duplicate rows:\n",
      "0\n"
     ]
    }
   ],
   "source": [
    "print(\"Number of duplicate rows:\")\n",
    "print(newsletter_df['Customer ID'].duplicated().sum())"
   ]
  },
  {
   "cell_type": "code",
   "execution_count": 125,
   "id": "c461c417",
   "metadata": {},
   "outputs": [
    {
     "name": "stdout",
     "output_type": "stream",
     "text": [
      "Statistical Analysis of Newsletter Data\n",
      "       Company Newsletter Interaction Count\n",
      "count                            251.000000\n",
      "mean                               4.414343\n",
      "std                                5.374350\n",
      "min                                1.000000\n",
      "25%                                2.000000\n",
      "50%                                3.000000\n",
      "75%                                5.000000\n",
      "max                               54.000000\n"
     ]
    }
   ],
   "source": [
    "print(\"Statistical Analysis of Newsletter Data\")\n",
    "print(newsletter_df.describe())"
   ]
  },
  {
   "cell_type": "code",
   "execution_count": 134,
   "id": "1b08fe4d",
   "metadata": {},
   "outputs": [
    {
     "data": {
      "image/png": "[encoded data removed]",
      "text/plain": [
       "<Figure size 800x600 with 1 Axes>"
      ]
     },
     "metadata": {},
     "output_type": "display_data"
    }
   ],
   "source": [
    "import matplotlib.pyplot as plt\n",
    "import seaborn as sns\n",
    "\n",
    "plt.figure(figsize=(8, 6))\n",
    "sns.histplot(data=newsletter_df, x='Company Newsletter Interaction Count', kde=True, color='steelblue')\n",
    "plt.axvline(newsletter_df['Company Newsletter Interaction Count'].mean(), color='red', linestyle='--',\n",
    "            label=f\"Mean: {newsletter_df['Company Newsletter Interaction Count'].mean():.1f}\")\n",
    "plt.axvline(newsletter_df['Company Newsletter Interaction Count'].median(), color='green', linestyle='--',\n",
    "            label=f\"Median: {newsletter_df['Company Newsletter Interaction Count'].median():.1f}\")\n",
    "plt.title(\"Distribution of Newsletter Interaction Count\")\n",
    "plt.xlabel(\"Newsletter Interaction Count\")\n",
    "plt.legend()\n",
    "plt.show()\n"
   ]
  },
  {
   "cell_type": "code",
   "execution_count": 133,
   "id": "e64764c2",
   "metadata": {},
   "outputs": [
    {
     "data": {
      "image/png": "[encoded data removed]",
      "text/plain": [
       "<Figure size 1000x600 with 1 Axes>"
      ]
     },
     "metadata": {},
     "output_type": "display_data"
    }
   ],
   "source": [
    "plt.figure(figsize=(10, 6))\n",
    "sns.boxplot(x=newsletter_df['Company Newsletter Interaction Count'], color='steelblue')\n",
    "plt.title(\"Boxplot of Newsletter Interaction Count\")\n",
    "plt.xlabel(\"Interaction Count\")\n",
    "plt.show()\n"
   ]
  },
  {
   "cell_type": "markdown",
   "id": "efe3dfa8",
   "metadata": {},
   "source": [
    "* The histogram shows, **Positively (Right) Skewed** plot similary the other hist plots.\n",
    "* Since there is small data group in Newsletter Interecation (eg., 251), and each belong to unique **Customer**.\n",
    "    - Outliers could inflate the mean and distribution of the dataset but without proper verification and clarification we should see those values as valid. Further validation required."
   ]
  },
  {
   "cell_type": "markdown",
   "id": "636109e651cdaed8",
   "metadata": {},
   "source": [
    "### Product Bug"
   ]
  },
  {
   "cell_type": "code",
   "execution_count": 136,
   "id": "bc7c2332b748d3a5",
   "metadata": {
    "ExecuteTime": {
     "end_time": "2025-02-26T10:32:53.575313Z",
     "start_time": "2025-02-26T10:32:53.567809Z"
    }
   },
   "outputs": [
    {
     "data": {
      "text/html": [
       "<div>\n",
       "<style scoped>\n",
       "    .dataframe tbody tr th:only-of-type {\n",
       "        vertical-align: middle;\n",
       "    }\n",
       "\n",
       "    .dataframe tbody tr th {\n",
       "        vertical-align: top;\n",
       "    }\n",
       "\n",
       "    .dataframe thead th {\n",
       "        text-align: right;\n",
       "    }\n",
       "</style>\n",
       "<table border=\"1\" class=\"dataframe\">\n",
       "  <thead>\n",
       "    <tr style=\"text-align: right;\">\n",
       "      <th></th>\n",
       "      <th>Customer ID</th>\n",
       "      <th>Product Bug Task Count</th>\n",
       "    </tr>\n",
       "  </thead>\n",
       "  <tbody>\n",
       "    <tr>\n",
       "      <th>0</th>\n",
       "      <td>CRM-1526150</td>\n",
       "      <td>179</td>\n",
       "    </tr>\n",
       "    <tr>\n",
       "      <th>1</th>\n",
       "      <td>CRM-1477300</td>\n",
       "      <td>150</td>\n",
       "    </tr>\n",
       "    <tr>\n",
       "      <th>2</th>\n",
       "      <td>CRM-1450300</td>\n",
       "      <td>66</td>\n",
       "    </tr>\n",
       "    <tr>\n",
       "      <th>3</th>\n",
       "      <td>CRM-661350</td>\n",
       "      <td>116</td>\n",
       "    </tr>\n",
       "    <tr>\n",
       "      <th>4</th>\n",
       "      <td>CRM-1435450</td>\n",
       "      <td>106</td>\n",
       "    </tr>\n",
       "  </tbody>\n",
       "</table>\n",
       "</div>"
      ],
      "text/plain": [
       "   Customer ID  Product Bug Task Count\n",
       "0  CRM-1526150                     179\n",
       "1  CRM-1477300                     150\n",
       "2  CRM-1450300                      66\n",
       "3   CRM-661350                     116\n",
       "4  CRM-1435450                     106"
      ]
     },
     "execution_count": 136,
     "metadata": {},
     "output_type": "execute_result"
    }
   ],
   "source": [
    "# Product Bug Task\n",
    "\n",
    "product_bug_task_df = pd.read_csv(\"data/Product_Bug_Task_Data.csv\")\n",
    "\n",
    "product_bug_task_df.head()"
   ]
  },
  {
   "cell_type": "markdown",
   "id": "b11c5ab909e81db6",
   "metadata": {},
   "source": [
    "product_bug _task incelenmesi"
   ]
  },
  {
   "cell_type": "markdown",
   "id": "1200c4bc6b8edab3",
   "metadata": {},
   "source": [
    "### Region and Vertical"
   ]
  },
  {
   "cell_type": "code",
   "execution_count": 15,
   "id": "581806dfd6dae789",
   "metadata": {
    "ExecuteTime": {
     "end_time": "2025-02-26T10:33:54.127582Z",
     "start_time": "2025-02-26T10:33:54.118137Z"
    }
   },
   "outputs": [
    {
     "data": {
      "text/html": [
       "<div>\n",
       "<style scoped>\n",
       "    .dataframe tbody tr th:only-of-type {\n",
       "        vertical-align: middle;\n",
       "    }\n",
       "\n",
       "    .dataframe tbody tr th {\n",
       "        vertical-align: top;\n",
       "    }\n",
       "\n",
       "    .dataframe thead th {\n",
       "        text-align: right;\n",
       "    }\n",
       "</style>\n",
       "<table border=\"1\" class=\"dataframe\">\n",
       "  <thead>\n",
       "    <tr style=\"text-align: right;\">\n",
       "      <th></th>\n",
       "      <th>Customer ID</th>\n",
       "      <th>Region</th>\n",
       "      <th>Vertical</th>\n",
       "      <th>Subvertical</th>\n",
       "    </tr>\n",
       "  </thead>\n",
       "  <tbody>\n",
       "    <tr>\n",
       "      <th>0</th>\n",
       "      <td>CRM-1471650</td>\n",
       "      <td>Malaysia</td>\n",
       "      <td>Media and Publishing</td>\n",
       "      <td>Content Websites</td>\n",
       "    </tr>\n",
       "    <tr>\n",
       "      <th>1</th>\n",
       "      <td>CRM-1516050</td>\n",
       "      <td>Taiwan</td>\n",
       "      <td>Retail</td>\n",
       "      <td>Fashion Retailer</td>\n",
       "    </tr>\n",
       "    <tr>\n",
       "      <th>2</th>\n",
       "      <td>CRM-1087300</td>\n",
       "      <td>Australia</td>\n",
       "      <td>Transportation and Logistics</td>\n",
       "      <td>Transportation and Logistics</td>\n",
       "    </tr>\n",
       "    <tr>\n",
       "      <th>3</th>\n",
       "      <td>CRM-1467150</td>\n",
       "      <td>Taiwan</td>\n",
       "      <td>Retail</td>\n",
       "      <td>Marketplace</td>\n",
       "    </tr>\n",
       "    <tr>\n",
       "      <th>4</th>\n",
       "      <td>CRM-230550</td>\n",
       "      <td>Turkey</td>\n",
       "      <td>Retail</td>\n",
       "      <td>Fashion Retailer</td>\n",
       "    </tr>\n",
       "  </tbody>\n",
       "</table>\n",
       "</div>"
      ],
      "text/plain": [
       "   Customer ID     Region                      Vertical  \\\n",
       "0  CRM-1471650   Malaysia          Media and Publishing   \n",
       "1  CRM-1516050     Taiwan                        Retail   \n",
       "2  CRM-1087300  Australia  Transportation and Logistics   \n",
       "3  CRM-1467150     Taiwan                        Retail   \n",
       "4   CRM-230550     Turkey                        Retail   \n",
       "\n",
       "                    Subvertical  \n",
       "0              Content Websites  \n",
       "1              Fashion Retailer  \n",
       "2  Transportation and Logistics  \n",
       "3                   Marketplace  \n",
       "4              Fashion Retailer  "
      ]
     },
     "execution_count": 15,
     "metadata": {},
     "output_type": "execute_result"
    }
   ],
   "source": [
    "# Region and Vertical\n",
    "\n",
    "region_and_vertical_df = pd.read_csv(\"data/RegionAndVertical_Data.csv\")\n",
    "\n",
    "region_and_vertical_df.head()"
   ]
  },
  {
   "cell_type": "markdown",
   "id": "d598e5095ac9bfda",
   "metadata": {},
   "source": [
    "Region and vertical incelemesi"
   ]
  },
  {
   "cell_type": "markdown",
   "id": "f12bcf094168b3c9",
   "metadata": {},
   "source": [
    "### Status and Level"
   ]
  },
  {
   "cell_type": "code",
   "execution_count": 116,
   "id": "476dc3ffbe2defb3",
   "metadata": {
    "ExecuteTime": {
     "end_time": "2025-02-26T10:34:52.783512Z",
     "start_time": "2025-02-26T10:34:52.775405Z"
    }
   },
   "outputs": [
    {
     "data": {
      "text/html": [
       "<div>\n",
       "<style scoped>\n",
       "    .dataframe tbody tr th:only-of-type {\n",
       "        vertical-align: middle;\n",
       "    }\n",
       "\n",
       "    .dataframe tbody tr th {\n",
       "        vertical-align: top;\n",
       "    }\n",
       "\n",
       "    .dataframe thead th {\n",
       "        text-align: right;\n",
       "    }\n",
       "</style>\n",
       "<table border=\"1\" class=\"dataframe\">\n",
       "  <thead>\n",
       "    <tr style=\"text-align: right;\">\n",
       "      <th></th>\n",
       "      <th>Customer ID</th>\n",
       "      <th>Status</th>\n",
       "      <th>Customer Level</th>\n",
       "    </tr>\n",
       "  </thead>\n",
       "  <tbody>\n",
       "    <tr>\n",
       "      <th>0</th>\n",
       "      <td>CRM-1471650</td>\n",
       "      <td>Onboarding</td>\n",
       "      <td>Enterprise</td>\n",
       "    </tr>\n",
       "    <tr>\n",
       "      <th>1</th>\n",
       "      <td>CRM-1516050</td>\n",
       "      <td>Onboarding</td>\n",
       "      <td>Long-tail</td>\n",
       "    </tr>\n",
       "    <tr>\n",
       "      <th>2</th>\n",
       "      <td>CRM-1087300</td>\n",
       "      <td>Churn</td>\n",
       "      <td>Semi-Enterprise</td>\n",
       "    </tr>\n",
       "    <tr>\n",
       "      <th>3</th>\n",
       "      <td>CRM-1467150</td>\n",
       "      <td>Churn</td>\n",
       "      <td>Semi-Enterprise</td>\n",
       "    </tr>\n",
       "    <tr>\n",
       "      <th>4</th>\n",
       "      <td>CRM-230550</td>\n",
       "      <td>Churn</td>\n",
       "      <td>Long-tail</td>\n",
       "    </tr>\n",
       "  </tbody>\n",
       "</table>\n",
       "</div>"
      ],
      "text/plain": [
       "   Customer ID      Status   Customer Level\n",
       "0  CRM-1471650  Onboarding       Enterprise\n",
       "1  CRM-1516050  Onboarding        Long-tail\n",
       "2  CRM-1087300       Churn  Semi-Enterprise\n",
       "3  CRM-1467150       Churn  Semi-Enterprise\n",
       "4   CRM-230550       Churn        Long-tail"
      ]
     },
     "execution_count": 116,
     "metadata": {},
     "output_type": "execute_result"
    }
   ],
   "source": [
    "# Status and Level\n",
    "\n",
    "status_and_level_df = pd.read_csv(\"data/StatusAndLevel_Data.csv\")\n",
    "\n",
    "status_and_level_df.head()"
   ]
  },
  {
   "cell_type": "markdown",
   "id": "d0e728b4a8204291",
   "metadata": {},
   "source": [
    "### Bulunan sonuçlara göre genel bir çıkarım"
   ]
  },
  {
   "cell_type": "markdown",
   "id": "8cdce8952c535cee",
   "metadata": {},
   "source": [
    "* Verilen ayrı veri setleri üzerinde **Region and Vertical** , **Status** ve **Age** veri setleri **2651** Customer ile bizim için ana veri listesi ya da **Master List** olarak kabul edilecektir.\n",
    "\n",
    "* Geri kalan veri setleri ana veri setlerimiz üzerinde küçük bir kümeye ait kişilerden oluşmaktadır. Revenue veri seti **900** Customer, Newsletter **251** gibi."
   ]
  },
  {
   "cell_type": "code",
   "execution_count": null,
   "id": "5c43cfa390873911",
   "metadata": {},
   "outputs": [],
   "source": []
  }
 ],
 "metadata": {
  "kernelspec": {
   "display_name": "Python 3",
   "language": "python",
   "name": "python3"
  },
  "language_info": {
   "codemirror_mode": {
    "name": "ipython",
    "version": 3
   },
   "file_extension": ".py",
   "mimetype": "text/x-python",
   "name": "python",
   "nbconvert_exporter": "python",
   "pygments_lexer": "ipython3",
   "version": "3.11.4"
  }
 },
 "nbformat": 4,
 "nbformat_minor": 5
}
