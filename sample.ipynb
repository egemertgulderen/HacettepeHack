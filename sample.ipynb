{
 "cells": [
  {
   "metadata": {
    "ExecuteTime": {
     "end_time": "2025-03-02T17:26:10.018709Z",
     "start_time": "2025-03-02T17:26:10.011765Z"
    }
   },
   "cell_type": "code",
   "source": [
    "'''Kendime Notlar'''\n",
    "\n",
    "'''Burada önce her bir veri setini incelemek içindeki\n",
    "* Null valuelar\n",
    "* Yanlış değerler\n",
    "* Anlamsız değerler\n",
    "\n",
    "Bunlar önceden her bir veri seti için yapılıp sonrasında ana tek bir set üzerinde birleştirildiğinde sıkıntı olmayacaktır. Lakin her halükarda bunu tekrardan kontrol etmek lazım.\n",
    "\n",
    "\n",
    "\n",
    "\n",
    "!+!'^! E-CORP Yaşları maksimum 72 ay olarak gözüküyor. Bunlar müşteri süresi olarak yaşmı yoksa gerçek yaşları mı öğren\n",
    "!+!'^!\n",
    "\n",
    "\n",
    "The CSAT Survey and Product Bug datasets each involve 640 customers, and notably, they share the same set of IDs (every customer who gave a CSAT survey also has product bug records, which suggests these might be specific clients in a program).\n",
    "\n",
    "\n",
    "\n",
    "Csat ile help ticket analizi first response time and csat\n",
    "\n",
    "'''"
   ],
   "id": "5c4ed574ab00dc62",
   "outputs": [
    {
     "data": {
      "text/plain": [
       "\"Burada önce her bir veri setini incelemek içindeki\\n* Null valuelar\\n* Yanlış değerler\\n* Anlamsız değerler\\n\\nBunlar önceden her bir veri seti için yapılıp sonrasında ana tek bir set üzerinde birleştirildiğinde sıkıntı olmayacaktır. Lakin her halükarda bunu tekrardan kontrol etmek lazım.\\n\\n\\n\\n\\n!+!'^! E-CORP Yaşları maksimum 72 ay olarak gözüküyor. Bunlar müşteri süresi olarak yaşmı yoksa gerçek yaşları mı öğren\\n!+!'^!\\n\\n\\nThe CSAT Survey and Product Bug datasets each involve 640 customers, and notably, they share the same set of IDs (every customer who gave a CSAT survey also has product bug records, which suggests these might be specific clients in a program).\\n\\n\""
      ]
     },
     "execution_count": 1,
     "metadata": {},
     "output_type": "execute_result"
    }
   ],
   "execution_count": 1
  },
  {
   "metadata": {
    "ExecuteTime": {
     "end_time": "2025-03-02T17:26:18.666543Z",
     "start_time": "2025-03-02T17:26:18.662163Z"
    }
   },
   "cell_type": "code",
   "source": [
    "# Libraries\n",
    "import pandas as pd\n",
    "import numpy as np\n",
    "\n",
    "import matplotlib.pyplot as plt\n",
    "import seaborn as sns\n"
   ],
   "id": "ae8b0819403bb914",
   "outputs": [],
   "execution_count": 2
  },
  {
   "metadata": {},
   "cell_type": "markdown",
   "source": [
    "MRR: Müşterinin E-corp’a aylık olarak ödediği para miktarını gösterir.\n",
    "\n",
    "\n",
    "Total Revenue: Müşterinin, E-corp ürünlerini kullanarak elde ettiği toplam gelir miktarını gösterir.\n",
    "\n",
    "\n",
    "Help Ticket Count: Müşterinin, müşteri destek ekibinden yardım almak için oluşturduğu toplam talep sayısını gösterir.\n",
    "\n",
    "\n",
    "Help Ticket Lead Time(hours): İlgili müşteri tarafından oluşturulan taleplerin ortalama çözüm süresini gösterir.\n",
    "\n",
    "\n",
    "Company Newsletter Interaction Count: Müşterinin, E-corp tarafından gönderilen bültenlerle kaç kez etkileşime geçtiğini gösterir.\n",
    "\n",
    "\n",
    "Status: Müşterinin satış sürecindeki mevcut durumunu gösterir."
   ],
   "id": "1a870c5b223452d7"
  },
  {
   "metadata": {},
   "cell_type": "markdown",
   "source": "--------------------------------------",
   "id": "a0456ab25be1bc45"
  },
  {
   "metadata": {},
   "cell_type": "markdown",
   "source": "# Analyses on Each Dataset Separately",
   "id": "5e49c3e596436f14"
  },
  {
   "metadata": {},
   "cell_type": "markdown",
   "source": "### Csat Survey",
   "id": "fa28a226b037f4b4"
  },
  {
   "metadata": {
    "ExecuteTime": {
     "end_time": "2025-03-02T17:26:23.841640Z",
     "start_time": "2025-03-02T17:26:23.713672Z"
    }
   },
   "cell_type": "code",
   "source": [
    "# CSAT_Survey\n",
    "csat_survey_data_df = pd.read_csv(\"data/CSAT_Survey_Data.csv\")\n",
    "\n",
    "csat_survey_data_df.head()"
   ],
   "id": "54eafa810e9868c7",
   "outputs": [
    {
     "data": {
      "text/plain": [
       "   Customer ID  Year  Quarter Survey Date Response Date  \\\n",
       "0  CRM-1516050  2022        3  2022-07-01    2022-08-26   \n",
       "1  CRM-1516050  2022        3  2022-07-01    2022-09-27   \n",
       "2  CRM-1470950  2022        1  2022-01-01    2022-03-25   \n",
       "3  CRM-1470950  2022        3  2022-07-01    2022-09-30   \n",
       "4  CRM-1470950  2022        2  2022-04-01    2022-06-23   \n",
       "\n",
       "   How likely are you to recommend insider to a friend or colleague   \\\n",
       "0                                                 10                   \n",
       "1                                                 10                   \n",
       "2                                                  4                   \n",
       "3                                                  6                   \n",
       "4                                                 10                   \n",
       "\n",
       "   How would you rate the value you gain from our company  \\\n",
       "0                                                  5        \n",
       "1                                                  5        \n",
       "2                                                  3        \n",
       "3                                                  3        \n",
       "4                                                  5        \n",
       "\n",
       "  How frequently are you using our platform  \\\n",
       "0                              Once a Month   \n",
       "1                              Once a Month   \n",
       "2                                Once a Day   \n",
       "3                               Once a Week   \n",
       "4                                Once a Day   \n",
       "\n",
       "   Please rate the overall quality of our products  \\\n",
       "0                                                5   \n",
       "1                                                5   \n",
       "2                                                2   \n",
       "3                                                4   \n",
       "4                                                4   \n",
       "\n",
       "   Please rate the usability of the panel  \\\n",
       "0                                     5.0   \n",
       "1                                     5.0   \n",
       "2                                     3.0   \n",
       "3                                     4.0   \n",
       "4                                     3.0   \n",
       "\n",
       "  Please rate your understanding of our reporting capabilities in the panel  \n",
       "0  I need someone from Insider team to provide me...                         \n",
       "1                               I don't use it often                         \n",
       "2  I need someone from Insider team to provide me...                         \n",
       "3       I tried but could not find everything I need                         \n",
       "4  I need someone from Insider team to provide me...                         "
      ],
      "text/html": [
       "<div>\n",
       "<style scoped>\n",
       "    .dataframe tbody tr th:only-of-type {\n",
       "        vertical-align: middle;\n",
       "    }\n",
       "\n",
       "    .dataframe tbody tr th {\n",
       "        vertical-align: top;\n",
       "    }\n",
       "\n",
       "    .dataframe thead th {\n",
       "        text-align: right;\n",
       "    }\n",
       "</style>\n",
       "<table border=\"1\" class=\"dataframe\">\n",
       "  <thead>\n",
       "    <tr style=\"text-align: right;\">\n",
       "      <th></th>\n",
       "      <th>Customer ID</th>\n",
       "      <th>Year</th>\n",
       "      <th>Quarter</th>\n",
       "      <th>Survey Date</th>\n",
       "      <th>Response Date</th>\n",
       "      <th>How likely are you to recommend insider to a friend or colleague</th>\n",
       "      <th>How would you rate the value you gain from our company</th>\n",
       "      <th>How frequently are you using our platform</th>\n",
       "      <th>Please rate the overall quality of our products</th>\n",
       "      <th>Please rate the usability of the panel</th>\n",
       "      <th>Please rate your understanding of our reporting capabilities in the panel</th>\n",
       "    </tr>\n",
       "  </thead>\n",
       "  <tbody>\n",
       "    <tr>\n",
       "      <th>0</th>\n",
       "      <td>CRM-1516050</td>\n",
       "      <td>2022</td>\n",
       "      <td>3</td>\n",
       "      <td>2022-07-01</td>\n",
       "      <td>2022-08-26</td>\n",
       "      <td>10</td>\n",
       "      <td>5</td>\n",
       "      <td>Once a Month</td>\n",
       "      <td>5</td>\n",
       "      <td>5.0</td>\n",
       "      <td>I need someone from Insider team to provide me...</td>\n",
       "    </tr>\n",
       "    <tr>\n",
       "      <th>1</th>\n",
       "      <td>CRM-1516050</td>\n",
       "      <td>2022</td>\n",
       "      <td>3</td>\n",
       "      <td>2022-07-01</td>\n",
       "      <td>2022-09-27</td>\n",
       "      <td>10</td>\n",
       "      <td>5</td>\n",
       "      <td>Once a Month</td>\n",
       "      <td>5</td>\n",
       "      <td>5.0</td>\n",
       "      <td>I don't use it often</td>\n",
       "    </tr>\n",
       "    <tr>\n",
       "      <th>2</th>\n",
       "      <td>CRM-1470950</td>\n",
       "      <td>2022</td>\n",
       "      <td>1</td>\n",
       "      <td>2022-01-01</td>\n",
       "      <td>2022-03-25</td>\n",
       "      <td>4</td>\n",
       "      <td>3</td>\n",
       "      <td>Once a Day</td>\n",
       "      <td>2</td>\n",
       "      <td>3.0</td>\n",
       "      <td>I need someone from Insider team to provide me...</td>\n",
       "    </tr>\n",
       "    <tr>\n",
       "      <th>3</th>\n",
       "      <td>CRM-1470950</td>\n",
       "      <td>2022</td>\n",
       "      <td>3</td>\n",
       "      <td>2022-07-01</td>\n",
       "      <td>2022-09-30</td>\n",
       "      <td>6</td>\n",
       "      <td>3</td>\n",
       "      <td>Once a Week</td>\n",
       "      <td>4</td>\n",
       "      <td>4.0</td>\n",
       "      <td>I tried but could not find everything I need</td>\n",
       "    </tr>\n",
       "    <tr>\n",
       "      <th>4</th>\n",
       "      <td>CRM-1470950</td>\n",
       "      <td>2022</td>\n",
       "      <td>2</td>\n",
       "      <td>2022-04-01</td>\n",
       "      <td>2022-06-23</td>\n",
       "      <td>10</td>\n",
       "      <td>5</td>\n",
       "      <td>Once a Day</td>\n",
       "      <td>4</td>\n",
       "      <td>3.0</td>\n",
       "      <td>I need someone from Insider team to provide me...</td>\n",
       "    </tr>\n",
       "  </tbody>\n",
       "</table>\n",
       "</div>"
      ]
     },
     "execution_count": 3,
     "metadata": {},
     "output_type": "execute_result"
    }
   ],
   "execution_count": 3
  },
  {
   "metadata": {},
   "cell_type": "markdown",
   "source": "Burada Csat Survey columnlarını açıkla",
   "id": "ae1f1d8c3b535e53"
  },
  {
   "metadata": {},
   "cell_type": "markdown",
   "source": "### Customer Age",
   "id": "8881e51148e057f0"
  },
  {
   "metadata": {
    "ExecuteTime": {
     "end_time": "2025-03-02T17:26:29.378275Z",
     "start_time": "2025-03-02T17:26:29.362739Z"
    }
   },
   "cell_type": "code",
   "source": [
    "# Customer_Age\n",
    "customer_age_df = pd.read_csv(\"data/Customer_Age_Data.csv\")\n",
    "\n",
    "customer_age_df.head()"
   ],
   "id": "269ea68c631c2950",
   "outputs": [
    {
     "data": {
      "text/plain": [
       "        CRM ID  Customer Age (Months)\n",
       "0  CRM-1471650                     24\n",
       "1  CRM-1516050                     13\n",
       "2  CRM-1087300                     25\n",
       "3  CRM-1467150                     12\n",
       "4   CRM-230550                     12"
      ],
      "text/html": [
       "<div>\n",
       "<style scoped>\n",
       "    .dataframe tbody tr th:only-of-type {\n",
       "        vertical-align: middle;\n",
       "    }\n",
       "\n",
       "    .dataframe tbody tr th {\n",
       "        vertical-align: top;\n",
       "    }\n",
       "\n",
       "    .dataframe thead th {\n",
       "        text-align: right;\n",
       "    }\n",
       "</style>\n",
       "<table border=\"1\" class=\"dataframe\">\n",
       "  <thead>\n",
       "    <tr style=\"text-align: right;\">\n",
       "      <th></th>\n",
       "      <th>CRM ID</th>\n",
       "      <th>Customer Age (Months)</th>\n",
       "    </tr>\n",
       "  </thead>\n",
       "  <tbody>\n",
       "    <tr>\n",
       "      <th>0</th>\n",
       "      <td>CRM-1471650</td>\n",
       "      <td>24</td>\n",
       "    </tr>\n",
       "    <tr>\n",
       "      <th>1</th>\n",
       "      <td>CRM-1516050</td>\n",
       "      <td>13</td>\n",
       "    </tr>\n",
       "    <tr>\n",
       "      <th>2</th>\n",
       "      <td>CRM-1087300</td>\n",
       "      <td>25</td>\n",
       "    </tr>\n",
       "    <tr>\n",
       "      <th>3</th>\n",
       "      <td>CRM-1467150</td>\n",
       "      <td>12</td>\n",
       "    </tr>\n",
       "    <tr>\n",
       "      <th>4</th>\n",
       "      <td>CRM-230550</td>\n",
       "      <td>12</td>\n",
       "    </tr>\n",
       "  </tbody>\n",
       "</table>\n",
       "</div>"
      ]
     },
     "execution_count": 4,
     "metadata": {},
     "output_type": "execute_result"
    }
   ],
   "execution_count": 4
  },
  {
   "metadata": {
    "ExecuteTime": {
     "end_time": "2025-03-02T17:26:30.652607Z",
     "start_time": "2025-03-02T17:26:30.648369Z"
    }
   },
   "cell_type": "code",
   "source": [
    "print(\"Customer Age Shape:\")\n",
    "print(customer_age_df.shape)"
   ],
   "id": "9ef83ffeab7cf3d7",
   "outputs": [
    {
     "name": "stdout",
     "output_type": "stream",
     "text": [
      "Customer Age Shape:\n",
      "(2651, 2)\n"
     ]
    }
   ],
   "execution_count": 5
  },
  {
   "metadata": {
    "ExecuteTime": {
     "end_time": "2025-03-02T17:26:32.614760Z",
     "start_time": "2025-03-02T17:26:32.597833Z"
    }
   },
   "cell_type": "code",
   "source": [
    "print(\"Customer Age Data Types: \")\n",
    "print(customer_age_df.dtypes)"
   ],
   "id": "9bd16bdf6e106e3",
   "outputs": [
    {
     "name": "stdout",
     "output_type": "stream",
     "text": [
      "Customer Age Data Types: \n",
      "CRM ID                   object\n",
      "Customer Age (Months)     int64\n",
      "dtype: object\n"
     ]
    }
   ],
   "execution_count": 6
  },
  {
   "metadata": {
    "ExecuteTime": {
     "end_time": "2025-03-02T17:26:33.882673Z",
     "start_time": "2025-03-02T17:26:33.878114Z"
    }
   },
   "cell_type": "code",
   "source": [
    "print(\"Missing Values for Customer Age Data:\")\n",
    "print(customer_age_df.isnull().sum())"
   ],
   "id": "f226c817eda27120",
   "outputs": [
    {
     "name": "stdout",
     "output_type": "stream",
     "text": [
      "Missing Values for Customer Age Data:\n",
      "CRM ID                   0\n",
      "Customer Age (Months)    0\n",
      "dtype: int64\n"
     ]
    }
   ],
   "execution_count": 7
  },
  {
   "metadata": {
    "ExecuteTime": {
     "end_time": "2025-03-02T17:26:35.252778Z",
     "start_time": "2025-03-02T17:26:35.201197Z"
    }
   },
   "cell_type": "code",
   "source": [
    "print(\"Number of duplicate rows:\")\n",
    "print(customer_age_df.duplicated().sum())\n"
   ],
   "id": "7ba425513de481ae",
   "outputs": [
    {
     "name": "stdout",
     "output_type": "stream",
     "text": [
      "Number of duplicate rows:\n",
      "0\n"
     ]
    }
   ],
   "execution_count": 8
  },
  {
   "metadata": {
    "ExecuteTime": {
     "end_time": "2025-03-02T17:26:36.238364Z",
     "start_time": "2025-03-02T17:26:36.228251Z"
    }
   },
   "cell_type": "code",
   "source": [
    "print(f\"Summary Statistics for Customer Age Data:\")\n",
    "print(customer_age_df.describe())"
   ],
   "id": "d9376a5b25838685",
   "outputs": [
    {
     "name": "stdout",
     "output_type": "stream",
     "text": [
      "Summary Statistics for Customer Age Data:\n",
      "       Customer Age (Months)\n",
      "count            2651.000000\n",
      "mean               20.077707\n",
      "std                16.427542\n",
      "min                 1.000000\n",
      "25%                 7.000000\n",
      "50%                15.000000\n",
      "75%                27.000000\n",
      "max                72.000000\n"
     ]
    }
   ],
   "execution_count": 9
  },
  {
   "metadata": {
    "ExecuteTime": {
     "end_time": "2025-03-02T17:26:38.024719Z",
     "start_time": "2025-03-02T17:26:38.017931Z"
    }
   },
   "cell_type": "code",
   "source": [
    "retention_6m = 100 * (customer_age_df['Customer Age (Months)'] >= 6).sum() / len(customer_age_df)\n",
    "retention_12m = 100 * (customer_age_df['Customer Age (Months)'] >= 12).sum() / len(customer_age_df)\n",
    "retention_24m = 100 * (customer_age_df['Customer Age (Months)'] >= 24).sum() / len(customer_age_df)\n",
    "\n",
    "print(\"Customer Retention Metrics:\")\n",
    "print(f\"6-month retention rate: {retention_6m:.2f}%\")\n",
    "print(f\"12-month retention rate: {retention_12m:.2f}%\")\n",
    "print(f\"24-month retention rate: {retention_24m:.2f}%\")"
   ],
   "id": "d6d7062ad3e1cc29",
   "outputs": [
    {
     "name": "stdout",
     "output_type": "stream",
     "text": [
      "Customer Retention Metrics:\n",
      "6-month retention rate: 82.35%\n",
      "12-month retention rate: 63.79%\n",
      "24-month retention rate: 33.16%\n"
     ]
    }
   ],
   "execution_count": 10
  },
  {
   "metadata": {
    "ExecuteTime": {
     "end_time": "2025-03-02T17:30:24.612462Z",
     "start_time": "2025-03-02T17:30:24.582919Z"
    }
   },
   "cell_type": "code",
   "source": [
    "num_customers_above_27 = customer_age_df[customer_age_df[\"Customer Age (Months)\"] > 27].shape[0]\n",
    "print(\"Number of customers older than 27 months:\", num_customers_above_27)\n"
   ],
   "id": "414c55e61f6b1b32",
   "outputs": [
    {
     "name": "stdout",
     "output_type": "stream",
     "text": [
      "Number of customers older than 27 months: 660\n"
     ]
    }
   ],
   "execution_count": 11
  },
  {
   "metadata": {
    "ExecuteTime": {
     "end_time": "2025-03-02T17:30:26.686039Z",
     "start_time": "2025-03-02T17:30:26.324401Z"
    }
   },
   "cell_type": "code",
   "source": [
    "plt.figure(figsize=(10, 6))\n",
    "\n",
    "sns.histplot(data=customer_age_df, x='Customer Age (Months)', kde=True, color='steelblue')\n",
    "plt.axvline(customer_age_df['Customer Age (Months)'].mean(), color='red', linestyle='--',\n",
    "            label=f'Mean: {customer_age_df[\"Customer Age (Months)\"].mean():.1f} months')\n",
    "plt.axvline(customer_age_df['Customer Age (Months)'].median(), color='green', linestyle='--',\n",
    "            label=f'Median: {customer_age_df[\"Customer Age (Months)\"].median():.1f} months')\n",
    "\n",
    "plt.title('Customer Age Distribution', fontsize=15)\n",
    "plt.xlabel('Age (Months)', fontsize=12)\n",
    "plt.ylabel('Number of Customers', fontsize=12)\n",
    "plt.legend()\n",
    "plt.show()"
   ],
   "id": "1534aa002db8d4da",
   "outputs": [
    {
     "data": {
      "text/plain": [
       "<Figure size 1000x600 with 1 Axes>"
      ],
      "image/png": "[encoded data removed]"
     },
     "metadata": {},
     "output_type": "display_data"
    }
   ],
   "execution_count": 12
  },
  {
   "metadata": {},
   "cell_type": "markdown",
   "source": [
    "From these outputs;\n",
    "\n",
    "* There are total **2651** customers.\n",
    "* There is **widely spread** in Customer Age from 1 month customers to 72 months customers with standard deviation of 16.4.\n",
    "* According to **percentiles** and Graphs; Customer Age distribution is **Positively (Right) Skewed**.\n",
    "\n"
   ],
   "id": "57baea1702b63605"
  },
  {
   "metadata": {},
   "cell_type": "markdown",
   "source": [
    "* About 75% of customers have been with the company for 27 months or less, This means most of the users are new.\n",
    "* 6-month retention rate of 82.35%, but it drops to 63.79% at 12 months and further falls to 33.16% at 24 months. This rapid decrease between 12-24 months shows that many customers leave before they hit the two-year mark.\n",
    "* Could be focused on **mid-long term** to customers to reduce loss, and increase tenured customers.\n",
    "* By examining the nature of long-term customer interactions, we can gain insights and develop strategies that can extended user engagement. Such insights can then be used to cultivate a loyal customer base over time."
   ],
   "id": "c3ca898a7d564dca"
  },
  {
   "metadata": {},
   "cell_type": "markdown",
   "source": "### Customer MRR",
   "id": "29fbafa42432bbac"
  },
  {
   "metadata": {
    "ExecuteTime": {
     "end_time": "2025-03-02T17:30:29.531697Z",
     "start_time": "2025-03-02T17:30:29.521288Z"
    }
   },
   "cell_type": "code",
   "source": [
    "# Customer MRR\n",
    "customer_mrr_df = pd.read_csv(\"data/Customer_MRR_Data.csv\")\n",
    "\n",
    "customer_mrr_df.head()"
   ],
   "id": "da3412fb84ccbb6e",
   "outputs": [
    {
     "data": {
      "text/plain": [
       "   Customer ID     MRR\n",
       "0  CRM-5454800  $8,212\n",
       "1  CRM-5479950  $2,026\n",
       "2  CRM-5494800  $2,100\n",
       "3  CRM-5598450  $2,900\n",
       "4  CRM-5602550  $1,898"
      ],
      "text/html": [
       "<div>\n",
       "<style scoped>\n",
       "    .dataframe tbody tr th:only-of-type {\n",
       "        vertical-align: middle;\n",
       "    }\n",
       "\n",
       "    .dataframe tbody tr th {\n",
       "        vertical-align: top;\n",
       "    }\n",
       "\n",
       "    .dataframe thead th {\n",
       "        text-align: right;\n",
       "    }\n",
       "</style>\n",
       "<table border=\"1\" class=\"dataframe\">\n",
       "  <thead>\n",
       "    <tr style=\"text-align: right;\">\n",
       "      <th></th>\n",
       "      <th>Customer ID</th>\n",
       "      <th>MRR</th>\n",
       "    </tr>\n",
       "  </thead>\n",
       "  <tbody>\n",
       "    <tr>\n",
       "      <th>0</th>\n",
       "      <td>CRM-5454800</td>\n",
       "      <td>$8,212</td>\n",
       "    </tr>\n",
       "    <tr>\n",
       "      <th>1</th>\n",
       "      <td>CRM-5479950</td>\n",
       "      <td>$2,026</td>\n",
       "    </tr>\n",
       "    <tr>\n",
       "      <th>2</th>\n",
       "      <td>CRM-5494800</td>\n",
       "      <td>$2,100</td>\n",
       "    </tr>\n",
       "    <tr>\n",
       "      <th>3</th>\n",
       "      <td>CRM-5598450</td>\n",
       "      <td>$2,900</td>\n",
       "    </tr>\n",
       "    <tr>\n",
       "      <th>4</th>\n",
       "      <td>CRM-5602550</td>\n",
       "      <td>$1,898</td>\n",
       "    </tr>\n",
       "  </tbody>\n",
       "</table>\n",
       "</div>"
      ]
     },
     "execution_count": 13,
     "metadata": {},
     "output_type": "execute_result"
    }
   ],
   "execution_count": 13
  },
  {
   "metadata": {
    "ExecuteTime": {
     "end_time": "2025-03-02T17:30:31.212299Z",
     "start_time": "2025-03-02T17:30:31.204616Z"
    }
   },
   "cell_type": "code",
   "source": "print(customer_mrr_df.shape)",
   "id": "5dea9314b6a96235",
   "outputs": [
    {
     "name": "stdout",
     "output_type": "stream",
     "text": [
      "(1380, 2)\n"
     ]
    }
   ],
   "execution_count": 14
  },
  {
   "metadata": {},
   "cell_type": "markdown",
   "source": "* It appears that some of the customers' MRR data is missing, possibly due to their customer type or current usage within the company, resulting in the absence of valid data at this time.",
   "id": "65ab504c06bfabf2"
  },
  {
   "metadata": {
    "ExecuteTime": {
     "end_time": "2025-03-02T17:30:32.950515Z",
     "start_time": "2025-03-02T17:30:32.945802Z"
    }
   },
   "cell_type": "code",
   "source": [
    "print(\"MRR Data Types: \")\n",
    "print(customer_mrr_df.dtypes)"
   ],
   "id": "58586e8cf127fa7b",
   "outputs": [
    {
     "name": "stdout",
     "output_type": "stream",
     "text": [
      "MRR Data Types: \n",
      "Customer ID    object\n",
      "MRR            object\n",
      "dtype: object\n"
     ]
    }
   ],
   "execution_count": 15
  },
  {
   "metadata": {},
   "cell_type": "markdown",
   "source": "Since MRR is currently represented as an object with the currency symbol *'$'*, it should be converted to an integer value for proper analysis.",
   "id": "ac35699a8191293d"
  },
  {
   "metadata": {
    "ExecuteTime": {
     "end_time": "2025-03-02T17:47:59.967964Z",
     "start_time": "2025-03-02T17:47:59.963384Z"
    }
   },
   "cell_type": "code",
   "source": [
    "# Convert MRR to integer\n",
    "customer_mrr_df['MRR'] = customer_mrr_df['MRR'].replace({r'\\$': '', r',': ''}, regex=True).astype(np.int64)"
   ],
   "id": "f947958f4bd37469",
   "outputs": [],
   "execution_count": 34
  },
  {
   "metadata": {
    "ExecuteTime": {
     "end_time": "2025-03-02T17:48:00.810250Z",
     "start_time": "2025-03-02T17:48:00.799576Z"
    }
   },
   "cell_type": "code",
   "source": [
    "print(customer_mrr_df.dtypes)\n",
    "customer_mrr_df.head()"
   ],
   "id": "5f89211c14f292b0",
   "outputs": [
    {
     "name": "stdout",
     "output_type": "stream",
     "text": [
      "Customer ID    object\n",
      "MRR             int64\n",
      "dtype: object\n"
     ]
    },
    {
     "data": {
      "text/plain": [
       "   Customer ID   MRR\n",
       "0  CRM-5454800  8212\n",
       "1  CRM-5479950  2026\n",
       "2  CRM-5494800  2100\n",
       "3  CRM-5598450  2900\n",
       "4  CRM-5602550  1898"
      ],
      "text/html": [
       "<div>\n",
       "<style scoped>\n",
       "    .dataframe tbody tr th:only-of-type {\n",
       "        vertical-align: middle;\n",
       "    }\n",
       "\n",
       "    .dataframe tbody tr th {\n",
       "        vertical-align: top;\n",
       "    }\n",
       "\n",
       "    .dataframe thead th {\n",
       "        text-align: right;\n",
       "    }\n",
       "</style>\n",
       "<table border=\"1\" class=\"dataframe\">\n",
       "  <thead>\n",
       "    <tr style=\"text-align: right;\">\n",
       "      <th></th>\n",
       "      <th>Customer ID</th>\n",
       "      <th>MRR</th>\n",
       "    </tr>\n",
       "  </thead>\n",
       "  <tbody>\n",
       "    <tr>\n",
       "      <th>0</th>\n",
       "      <td>CRM-5454800</td>\n",
       "      <td>8212</td>\n",
       "    </tr>\n",
       "    <tr>\n",
       "      <th>1</th>\n",
       "      <td>CRM-5479950</td>\n",
       "      <td>2026</td>\n",
       "    </tr>\n",
       "    <tr>\n",
       "      <th>2</th>\n",
       "      <td>CRM-5494800</td>\n",
       "      <td>2100</td>\n",
       "    </tr>\n",
       "    <tr>\n",
       "      <th>3</th>\n",
       "      <td>CRM-5598450</td>\n",
       "      <td>2900</td>\n",
       "    </tr>\n",
       "    <tr>\n",
       "      <th>4</th>\n",
       "      <td>CRM-5602550</td>\n",
       "      <td>1898</td>\n",
       "    </tr>\n",
       "  </tbody>\n",
       "</table>\n",
       "</div>"
      ]
     },
     "execution_count": 35,
     "metadata": {},
     "output_type": "execute_result"
    }
   ],
   "execution_count": 35
  },
  {
   "metadata": {
    "ExecuteTime": {
     "end_time": "2025-03-02T17:48:02.661955Z",
     "start_time": "2025-03-02T17:48:02.657372Z"
    }
   },
   "cell_type": "code",
   "source": [
    "print(\"Missing Values for Customer MRR Data:\")\n",
    "print(customer_mrr_df.isnull().sum())"
   ],
   "id": "64a1f0259abd84e5",
   "outputs": [
    {
     "name": "stdout",
     "output_type": "stream",
     "text": [
      "Missing Values for Customer MRR Data:\n",
      "Customer ID    0\n",
      "MRR            0\n",
      "dtype: int64\n"
     ]
    }
   ],
   "execution_count": 36
  },
  {
   "metadata": {
    "ExecuteTime": {
     "end_time": "2025-03-02T17:48:03.473913Z",
     "start_time": "2025-03-02T17:48:03.464697Z"
    }
   },
   "cell_type": "code",
   "source": [
    "print(\"Number of duplicate rows:\")\n",
    "print(customer_age_df.duplicated().sum())"
   ],
   "id": "6fcc53e51f6efffa",
   "outputs": [
    {
     "name": "stdout",
     "output_type": "stream",
     "text": [
      "Number of duplicate rows:\n",
      "0\n"
     ]
    }
   ],
   "execution_count": 37
  },
  {
   "metadata": {
    "ExecuteTime": {
     "end_time": "2025-03-02T17:48:04.535832Z",
     "start_time": "2025-03-02T17:48:04.529575Z"
    }
   },
   "cell_type": "code",
   "source": [
    "print(f\"Summary Statistics for Customer MRR Data:\")\n",
    "print(customer_mrr_df.describe())"
   ],
   "id": "6f63c40c9ca6ca4f",
   "outputs": [
    {
     "name": "stdout",
     "output_type": "stream",
     "text": [
      "Summary Statistics for Customer MRR Data:\n",
      "                MRR\n",
      "count   1380.000000\n",
      "mean    3933.708696\n",
      "std     5279.234169\n",
      "min       26.000000\n",
      "25%     1152.250000\n",
      "50%     2424.000000\n",
      "75%     4680.250000\n",
      "max    62732.000000\n"
     ]
    }
   ],
   "execution_count": 38
  },
  {
   "metadata": {
    "ExecuteTime": {
     "end_time": "2025-03-02T17:30:42.122339Z",
     "start_time": "2025-03-02T17:30:41.951448Z"
    }
   },
   "cell_type": "code",
   "source": [
    "plt.figure(figsize=(10, 6))\n",
    "\n",
    "sns.histplot(data=customer_mrr_df, x='MRR', kde=True, color='steelblue')\n",
    "plt.axvline(customer_mrr_df['MRR'].mean(), color='red', linestyle='--',\n",
    "            label=f'Mean: {customer_mrr_df[\"MRR\"].mean():.1f} dollar')\n",
    "plt.axvline(customer_mrr_df['MRR'].median(), color='green', linestyle='--',\n",
    "            label=f'Median: {customer_mrr_df[\"MRR\"].median():.1f} dollar')\n",
    "\n",
    "plt.title('Customer MRR Distribution', fontsize=15)\n",
    "plt.xlabel('MRR', fontsize=12)\n",
    "plt.ylabel('Number of Customers', fontsize=12)\n",
    "plt.legend()\n",
    "plt.show()"
   ],
   "id": "d4f1399bd7818d5b",
   "outputs": [
    {
     "data": {
      "text/plain": [
       "<Figure size 1000x600 with 1 Axes>"
      ],
      "image/png": "[encoded data removed]"
     },
     "metadata": {},
     "output_type": "display_data"
    }
   ],
   "execution_count": 21
  },
  {
   "metadata": {},
   "cell_type": "markdown",
   "source": [
    "From these we obtain these results;\n",
    "\n",
    "* The histograms show **Strong Positive (Right) Skew** with many customers fall behind the MMR value of $ 5000 dollars (75%)\n",
    "\n",
    "\n",
    "* Customers shows high volatile spending on E-Corp with standard deviation of **$ 5300**."
   ],
   "id": "32f0aedc4f03c65"
  },
  {
   "metadata": {},
   "cell_type": "markdown",
   "source": "### Customer Revenue",
   "id": "192c625afd547497"
  },
  {
   "metadata": {
    "ExecuteTime": {
     "end_time": "2025-03-02T18:53:35.122535Z",
     "start_time": "2025-03-02T18:53:35.111832Z"
    }
   },
   "cell_type": "code",
   "source": [
    "# Customer Revenue\n",
    "\n",
    "customer_revenue = pd.read_csv(\"data/Customer_Revenue_Data.csv\")\n",
    "\n",
    "customer_revenue"
   ],
   "id": "165fd8af25b94546",
   "outputs": [
    {
     "data": {
      "text/plain": [
       "     Customer ID Total Revenue\n",
       "0    CRM-1470950      $732,199\n",
       "1    CRM-1526100            $0\n",
       "2    CRM-1506400      $375,135\n",
       "3    CRM-1430550            $0\n",
       "4    CRM-1485600      $116,732\n",
       "..           ...           ...\n",
       "896   CRM-783450       $16,527\n",
       "897  CRM-1500500            $0\n",
       "898   CRM-155450      $567,026\n",
       "899  CRM-1499600   $15,967,518\n",
       "900  CRM-1451550       $30,478\n",
       "\n",
       "[901 rows x 2 columns]"
      ],
      "text/html": [
       "<div>\n",
       "<style scoped>\n",
       "    .dataframe tbody tr th:only-of-type {\n",
       "        vertical-align: middle;\n",
       "    }\n",
       "\n",
       "    .dataframe tbody tr th {\n",
       "        vertical-align: top;\n",
       "    }\n",
       "\n",
       "    .dataframe thead th {\n",
       "        text-align: right;\n",
       "    }\n",
       "</style>\n",
       "<table border=\"1\" class=\"dataframe\">\n",
       "  <thead>\n",
       "    <tr style=\"text-align: right;\">\n",
       "      <th></th>\n",
       "      <th>Customer ID</th>\n",
       "      <th>Total Revenue</th>\n",
       "    </tr>\n",
       "  </thead>\n",
       "  <tbody>\n",
       "    <tr>\n",
       "      <th>0</th>\n",
       "      <td>CRM-1470950</td>\n",
       "      <td>$732,199</td>\n",
       "    </tr>\n",
       "    <tr>\n",
       "      <th>1</th>\n",
       "      <td>CRM-1526100</td>\n",
       "      <td>$0</td>\n",
       "    </tr>\n",
       "    <tr>\n",
       "      <th>2</th>\n",
       "      <td>CRM-1506400</td>\n",
       "      <td>$375,135</td>\n",
       "    </tr>\n",
       "    <tr>\n",
       "      <th>3</th>\n",
       "      <td>CRM-1430550</td>\n",
       "      <td>$0</td>\n",
       "    </tr>\n",
       "    <tr>\n",
       "      <th>4</th>\n",
       "      <td>CRM-1485600</td>\n",
       "      <td>$116,732</td>\n",
       "    </tr>\n",
       "    <tr>\n",
       "      <th>...</th>\n",
       "      <td>...</td>\n",
       "      <td>...</td>\n",
       "    </tr>\n",
       "    <tr>\n",
       "      <th>896</th>\n",
       "      <td>CRM-783450</td>\n",
       "      <td>$16,527</td>\n",
       "    </tr>\n",
       "    <tr>\n",
       "      <th>897</th>\n",
       "      <td>CRM-1500500</td>\n",
       "      <td>$0</td>\n",
       "    </tr>\n",
       "    <tr>\n",
       "      <th>898</th>\n",
       "      <td>CRM-155450</td>\n",
       "      <td>$567,026</td>\n",
       "    </tr>\n",
       "    <tr>\n",
       "      <th>899</th>\n",
       "      <td>CRM-1499600</td>\n",
       "      <td>$15,967,518</td>\n",
       "    </tr>\n",
       "    <tr>\n",
       "      <th>900</th>\n",
       "      <td>CRM-1451550</td>\n",
       "      <td>$30,478</td>\n",
       "    </tr>\n",
       "  </tbody>\n",
       "</table>\n",
       "<p>901 rows × 2 columns</p>\n",
       "</div>"
      ]
     },
     "execution_count": 119,
     "metadata": {},
     "output_type": "execute_result"
    }
   ],
   "execution_count": 119
  },
  {
   "metadata": {
    "ExecuteTime": {
     "end_time": "2025-03-02T18:53:36.745429Z",
     "start_time": "2025-03-02T18:53:36.742098Z"
    }
   },
   "cell_type": "code",
   "source": "print(customer_revenue.shape)",
   "id": "ff3a48d1b4a19a93",
   "outputs": [
    {
     "name": "stdout",
     "output_type": "stream",
     "text": [
      "(901, 2)\n"
     ]
    }
   ],
   "execution_count": 120
  },
  {
   "metadata": {},
   "cell_type": "markdown",
   "source": "* The **901** customers shows there is much less information than MRR",
   "id": "3ce586ab2ab68e27"
  },
  {
   "metadata": {
    "ExecuteTime": {
     "end_time": "2025-03-02T18:53:37.686346Z",
     "start_time": "2025-03-02T18:53:37.681921Z"
    }
   },
   "cell_type": "code",
   "source": [
    "print(\"Customer Revenue Types: \")\n",
    "print(customer_revenue.dtypes)"
   ],
   "id": "191f9ea54056f4f7",
   "outputs": [
    {
     "name": "stdout",
     "output_type": "stream",
     "text": [
      "Customer Revenue Types: \n",
      "Customer ID      object\n",
      "Total Revenue    object\n",
      "dtype: object\n"
     ]
    }
   ],
   "execution_count": 121
  },
  {
   "metadata": {
    "ExecuteTime": {
     "end_time": "2025-03-02T18:53:55.020719Z",
     "start_time": "2025-03-02T18:53:55.012335Z"
    }
   },
   "cell_type": "code",
   "source": [
    "\n",
    "customer_revenue['Total Revenue'] = customer_revenue['Total Revenue'].replace({r'\\$': '', r',': ''}, regex=True).astype(np.int64)"
   ],
   "id": "b58f5c8fec4cf03d",
   "outputs": [],
   "execution_count": 124
  },
  {
   "metadata": {
    "ExecuteTime": {
     "end_time": "2025-03-02T18:53:56.867759Z",
     "start_time": "2025-03-02T18:53:56.856703Z"
    }
   },
   "cell_type": "code",
   "source": [
    "print(\"Customer Revenue Types: \")\n",
    "print(customer_revenue.dtypes)"
   ],
   "id": "f0917b4f2a2b0235",
   "outputs": [
    {
     "name": "stdout",
     "output_type": "stream",
     "text": [
      "Customer Revenue Types: \n",
      "Customer ID      object\n",
      "Total Revenue     int64\n",
      "dtype: object\n"
     ]
    }
   ],
   "execution_count": 125
  },
  {
   "metadata": {
    "ExecuteTime": {
     "end_time": "2025-03-02T18:53:57.892630Z",
     "start_time": "2025-03-02T18:53:57.885630Z"
    }
   },
   "cell_type": "code",
   "source": "customer_revenue",
   "id": "209da4e63f55030c",
   "outputs": [
    {
     "data": {
      "text/plain": [
       "     Customer ID  Total Revenue\n",
       "0    CRM-1470950         732199\n",
       "1    CRM-1526100              0\n",
       "2    CRM-1506400         375135\n",
       "3    CRM-1430550              0\n",
       "4    CRM-1485600         116732\n",
       "..           ...            ...\n",
       "896   CRM-783450          16527\n",
       "897  CRM-1500500              0\n",
       "898   CRM-155450         567026\n",
       "899  CRM-1499600       15967518\n",
       "900  CRM-1451550          30478\n",
       "\n",
       "[901 rows x 2 columns]"
      ],
      "text/html": [
       "<div>\n",
       "<style scoped>\n",
       "    .dataframe tbody tr th:only-of-type {\n",
       "        vertical-align: middle;\n",
       "    }\n",
       "\n",
       "    .dataframe tbody tr th {\n",
       "        vertical-align: top;\n",
       "    }\n",
       "\n",
       "    .dataframe thead th {\n",
       "        text-align: right;\n",
       "    }\n",
       "</style>\n",
       "<table border=\"1\" class=\"dataframe\">\n",
       "  <thead>\n",
       "    <tr style=\"text-align: right;\">\n",
       "      <th></th>\n",
       "      <th>Customer ID</th>\n",
       "      <th>Total Revenue</th>\n",
       "    </tr>\n",
       "  </thead>\n",
       "  <tbody>\n",
       "    <tr>\n",
       "      <th>0</th>\n",
       "      <td>CRM-1470950</td>\n",
       "      <td>732199</td>\n",
       "    </tr>\n",
       "    <tr>\n",
       "      <th>1</th>\n",
       "      <td>CRM-1526100</td>\n",
       "      <td>0</td>\n",
       "    </tr>\n",
       "    <tr>\n",
       "      <th>2</th>\n",
       "      <td>CRM-1506400</td>\n",
       "      <td>375135</td>\n",
       "    </tr>\n",
       "    <tr>\n",
       "      <th>3</th>\n",
       "      <td>CRM-1430550</td>\n",
       "      <td>0</td>\n",
       "    </tr>\n",
       "    <tr>\n",
       "      <th>4</th>\n",
       "      <td>CRM-1485600</td>\n",
       "      <td>116732</td>\n",
       "    </tr>\n",
       "    <tr>\n",
       "      <th>...</th>\n",
       "      <td>...</td>\n",
       "      <td>...</td>\n",
       "    </tr>\n",
       "    <tr>\n",
       "      <th>896</th>\n",
       "      <td>CRM-783450</td>\n",
       "      <td>16527</td>\n",
       "    </tr>\n",
       "    <tr>\n",
       "      <th>897</th>\n",
       "      <td>CRM-1500500</td>\n",
       "      <td>0</td>\n",
       "    </tr>\n",
       "    <tr>\n",
       "      <th>898</th>\n",
       "      <td>CRM-155450</td>\n",
       "      <td>567026</td>\n",
       "    </tr>\n",
       "    <tr>\n",
       "      <th>899</th>\n",
       "      <td>CRM-1499600</td>\n",
       "      <td>15967518</td>\n",
       "    </tr>\n",
       "    <tr>\n",
       "      <th>900</th>\n",
       "      <td>CRM-1451550</td>\n",
       "      <td>30478</td>\n",
       "    </tr>\n",
       "  </tbody>\n",
       "</table>\n",
       "<p>901 rows × 2 columns</p>\n",
       "</div>"
      ]
     },
     "execution_count": 126,
     "metadata": {},
     "output_type": "execute_result"
    }
   ],
   "execution_count": 126
  },
  {
   "metadata": {
    "ExecuteTime": {
     "end_time": "2025-03-02T18:54:00.308972Z",
     "start_time": "2025-03-02T18:54:00.302656Z"
    }
   },
   "cell_type": "code",
   "source": [
    "print(\"Missing Values for Customer Revenue Data:\")\n",
    "print(customer_revenue.isnull().sum())"
   ],
   "id": "b8a4a72b37658dc5",
   "outputs": [
    {
     "name": "stdout",
     "output_type": "stream",
     "text": [
      "Missing Values for Customer Revenue Data:\n",
      "Customer ID      0\n",
      "Total Revenue    0\n",
      "dtype: int64\n"
     ]
    }
   ],
   "execution_count": 127
  },
  {
   "metadata": {
    "ExecuteTime": {
     "end_time": "2025-03-02T18:54:01.183799Z",
     "start_time": "2025-03-02T18:54:01.175018Z"
    }
   },
   "cell_type": "code",
   "source": [
    "print(\"Number of duplicate rows:\")\n",
    "print(customer_revenue.duplicated().sum())"
   ],
   "id": "8a620703f31318e1",
   "outputs": [
    {
     "name": "stdout",
     "output_type": "stream",
     "text": [
      "Number of duplicate rows:\n",
      "0\n"
     ]
    }
   ],
   "execution_count": 128
  },
  {
   "metadata": {
    "ExecuteTime": {
     "end_time": "2025-03-02T18:54:02.221677Z",
     "start_time": "2025-03-02T18:54:02.213761Z"
    }
   },
   "cell_type": "code",
   "source": [
    "print(f\"Summary Statistics for Customer Revenue Data:\")\n",
    "print(customer_revenue.describe())"
   ],
   "id": "c6accfa5db5ca0ea",
   "outputs": [
    {
     "name": "stdout",
     "output_type": "stream",
     "text": [
      "Summary Statistics for Customer Revenue Data:\n",
      "       Total Revenue\n",
      "count   9.010000e+02\n",
      "mean    1.259107e+07\n",
      "std     1.218891e+08\n",
      "min     0.000000e+00\n",
      "25%     5.790000e+02\n",
      "50%     6.074100e+04\n",
      "75%     4.542900e+05\n",
      "max     2.789805e+09\n"
     ]
    }
   ],
   "execution_count": 129
  },
  {
   "metadata": {
    "ExecuteTime": {
     "end_time": "2025-03-02T18:46:46.481390Z",
     "start_time": "2025-03-02T18:46:46.474876Z"
    }
   },
   "cell_type": "code",
   "source": [
    "# Calculate the first and third quartiles\n",
    "Q1 = customer_revenue['Total Revenue'].quantile(0.25)\n",
    "Q3 = customer_revenue['Total Revenue'].quantile(0.75)\n",
    "IQR = Q3 - Q1\n",
    "\n",
    "# Define the upper bound for outliers\n",
    "upper_bound = Q3 + 1.5 * IQR\n",
    "\n",
    "# Filter the DataFrame to get outliers\n",
    "outliers = customer_revenue[customer_revenue['Total Revenue'] > upper_bound]\n",
    "\n",
    "# Display the outliers\n",
    "print(outliers)\n"
   ],
   "id": "b2a06a695be0dac3",
   "outputs": [
    {
     "name": "stdout",
     "output_type": "stream",
     "text": [
      "     Customer ID  Total Revenue\n",
      "5    CRM-1548450        3128751\n",
      "19    CRM-150500      175293442\n",
      "26   CRM-1464800        2227584\n",
      "37   CRM-1501100       27956189\n",
      "38   CRM-1559050        1812341\n",
      "..           ...            ...\n",
      "871   CRM-626250        3451604\n",
      "873   CRM-617450       30414659\n",
      "874   CRM-608250        1802794\n",
      "879  CRM-1492950       45226966\n",
      "899  CRM-1499600       15967518\n",
      "\n",
      "[143 rows x 2 columns]\n"
     ]
    }
   ],
   "execution_count": 109
  },
  {
   "metadata": {
    "ExecuteTime": {
     "end_time": "2025-03-02T18:47:32.611481Z",
     "start_time": "2025-03-02T18:47:32.409679Z"
    }
   },
   "cell_type": "code",
   "source": [
    "import matplotlib.pyplot as plt\n",
    "\n",
    "# Assuming customer_revenue DataFrame is already loaded and cleaned.\n",
    "\n",
    "# Create a figure with two subplots: one for histogram and one for box plot.\n",
    "fig, axes = plt.subplots(1, 2, figsize=(16, 6))\n",
    "\n",
    "# Histogram plot with outliers\n",
    "axes[0].hist(customer_revenue['Total Revenue'], bins=50, color='skyblue', edgecolor='black')\n",
    "axes[0].set_title('Histogram of Total Revenue')\n",
    "axes[0].set_xlabel('Total Revenue')\n",
    "axes[0].set_ylabel('Frequency')\n",
    "# Optionally, use a log scale if the distribution is highly skewed\n",
    "# axes[0].set_xscale('log')\n",
    "\n",
    "# Box plot for Total Revenue\n",
    "axes[1].boxplot(customer_revenue['Total Revenue'], vert=False)\n",
    "axes[1].set_title('Box Plot of Total Revenue')\n",
    "axes[1].set_xlabel('Total Revenue')\n",
    "\n",
    "plt.tight_layout()\n",
    "plt.show()\n"
   ],
   "id": "210392eedf11de6c",
   "outputs": [
    {
     "data": {
      "text/plain": [
       "<Figure size 1600x600 with 2 Axes>"
      ],
      "image/png": "[encoded data removed]"
     },
     "metadata": {},
     "output_type": "display_data"
    }
   ],
   "execution_count": 110
  },
  {
   "metadata": {},
   "cell_type": "markdown",
   "source": "### Help Ticket",
   "id": "a5dde325ebdabdf"
  },
  {
   "metadata": {
    "ExecuteTime": {
     "end_time": "2025-03-02T18:56:38.274298Z",
     "start_time": "2025-03-02T18:56:38.261613Z"
    }
   },
   "cell_type": "code",
   "source": [
    "# Help ticket\n",
    "\n",
    "help_ticket = pd.read_csv(\"data/Help_Ticket_Data.csv\")\n",
    "\n",
    "help_ticket.head()"
   ],
   "id": "cd3c3c33bf26a988",
   "outputs": [
    {
     "data": {
      "text/plain": [
       "   Customer ID  Help Ticket Count  Help Ticket Lead Time (hours)\n",
       "0  CRM-1516050                  9                            418\n",
       "1  CRM-1467150                  8                            382\n",
       "2  CRM-1470950                 30                            366\n",
       "3  CRM-1526100                  4                           1206\n",
       "4  CRM-1506400                 22                            484"
      ],
      "text/html": [
       "<div>\n",
       "<style scoped>\n",
       "    .dataframe tbody tr th:only-of-type {\n",
       "        vertical-align: middle;\n",
       "    }\n",
       "\n",
       "    .dataframe tbody tr th {\n",
       "        vertical-align: top;\n",
       "    }\n",
       "\n",
       "    .dataframe thead th {\n",
       "        text-align: right;\n",
       "    }\n",
       "</style>\n",
       "<table border=\"1\" class=\"dataframe\">\n",
       "  <thead>\n",
       "    <tr style=\"text-align: right;\">\n",
       "      <th></th>\n",
       "      <th>Customer ID</th>\n",
       "      <th>Help Ticket Count</th>\n",
       "      <th>Help Ticket Lead Time (hours)</th>\n",
       "    </tr>\n",
       "  </thead>\n",
       "  <tbody>\n",
       "    <tr>\n",
       "      <th>0</th>\n",
       "      <td>CRM-1516050</td>\n",
       "      <td>9</td>\n",
       "      <td>418</td>\n",
       "    </tr>\n",
       "    <tr>\n",
       "      <th>1</th>\n",
       "      <td>CRM-1467150</td>\n",
       "      <td>8</td>\n",
       "      <td>382</td>\n",
       "    </tr>\n",
       "    <tr>\n",
       "      <th>2</th>\n",
       "      <td>CRM-1470950</td>\n",
       "      <td>30</td>\n",
       "      <td>366</td>\n",
       "    </tr>\n",
       "    <tr>\n",
       "      <th>3</th>\n",
       "      <td>CRM-1526100</td>\n",
       "      <td>4</td>\n",
       "      <td>1206</td>\n",
       "    </tr>\n",
       "    <tr>\n",
       "      <th>4</th>\n",
       "      <td>CRM-1506400</td>\n",
       "      <td>22</td>\n",
       "      <td>484</td>\n",
       "    </tr>\n",
       "  </tbody>\n",
       "</table>\n",
       "</div>"
      ]
     },
     "execution_count": 131,
     "metadata": {},
     "output_type": "execute_result"
    }
   ],
   "execution_count": 131
  },
  {
   "metadata": {
    "ExecuteTime": {
     "end_time": "2025-03-02T18:56:39.398790Z",
     "start_time": "2025-03-02T18:56:39.387526Z"
    }
   },
   "cell_type": "code",
   "source": [
    "print(\"Help Ticket Shape:\")\n",
    "print(help_ticket.shape)\n"
   ],
   "id": "93104d4908878ce0",
   "outputs": [
    {
     "name": "stdout",
     "output_type": "stream",
     "text": [
      "Help Ticket Shape:\n",
      "(1367, 3)\n"
     ]
    }
   ],
   "execution_count": 132
  },
  {
   "metadata": {
    "ExecuteTime": {
     "end_time": "2025-03-02T18:56:51.349092Z",
     "start_time": "2025-03-02T18:56:51.343626Z"
    }
   },
   "cell_type": "code",
   "source": [
    "print(\"Helpt Ticket Data Types: \")\n",
    "print(help_ticket.dtypes)"
   ],
   "id": "8ca1d6e2b629bdad",
   "outputs": [
    {
     "name": "stdout",
     "output_type": "stream",
     "text": [
      "Helpt Ticket Data Types: \n",
      "Customer ID                      object\n",
      "Help Ticket Count                 int64\n",
      "Help Ticket Lead Time (hours)     int64\n",
      "dtype: object\n"
     ]
    }
   ],
   "execution_count": 133
  },
  {
   "metadata": {
    "ExecuteTime": {
     "end_time": "2025-03-02T18:57:01.305045Z",
     "start_time": "2025-03-02T18:57:01.300800Z"
    }
   },
   "cell_type": "code",
   "source": [
    "print(\"Missing Values for Help Ticket Data:\")\n",
    "print(help_ticket.isnull().sum())"
   ],
   "id": "e878323b55ae99cd",
   "outputs": [
    {
     "name": "stdout",
     "output_type": "stream",
     "text": [
      "Missing Values for Help Ticket Data:\n",
      "Customer ID                      0\n",
      "Help Ticket Count                0\n",
      "Help Ticket Lead Time (hours)    0\n",
      "dtype: int64\n"
     ]
    }
   ],
   "execution_count": 134
  },
  {
   "metadata": {
    "ExecuteTime": {
     "end_time": "2025-03-02T18:57:37.644065Z",
     "start_time": "2025-03-02T18:57:37.639356Z"
    }
   },
   "cell_type": "code",
   "source": [
    "print(\"Number of duplicate rows:\")\n",
    "print(help_ticket.duplicated().sum())\n"
   ],
   "id": "55962c85e7a02500",
   "outputs": [
    {
     "name": "stdout",
     "output_type": "stream",
     "text": [
      "Number of duplicate rows:\n",
      "0\n"
     ]
    }
   ],
   "execution_count": 137
  },
  {
   "metadata": {
    "ExecuteTime": {
     "end_time": "2025-03-02T19:05:06.167966Z",
     "start_time": "2025-03-02T19:05:06.160368Z"
    }
   },
   "cell_type": "code",
   "source": [
    "print(f\"Summary Statistics for Help Ticket Data:\")\n",
    "print(help_ticket.describe())"
   ],
   "id": "ea731c42b763c06",
   "outputs": [
    {
     "name": "stdout",
     "output_type": "stream",
     "text": [
      "Summary Statistics for Help Ticket Data:\n",
      "       Help Ticket Count  Help Ticket Lead Time (hours)\n",
      "count        1367.000000                    1367.000000\n",
      "mean           17.397952                     786.302853\n",
      "std            25.354291                     672.856978\n",
      "min             1.000000                       0.000000\n",
      "25%             3.000000                     387.500000\n",
      "50%             9.000000                     603.000000\n",
      "75%            22.000000                     976.000000\n",
      "max           443.000000                   11632.000000\n"
     ]
    }
   ],
   "execution_count": 139
  },
  {
   "metadata": {
    "ExecuteTime": {
     "end_time": "2025-03-02T19:07:56.544342Z",
     "start_time": "2025-03-02T19:07:56.404459Z"
    }
   },
   "cell_type": "code",
   "source": [
    "fig, axes = plt.subplots(1, 2, figsize=(12, 5))\n",
    "\n",
    "# Ticket Count\n",
    "sns.boxplot(data=help_ticket, y='Help Ticket Count', ax=axes[0], color='skyblue')\n",
    "axes[0].set_title('Distribution of Ticket Count')\n",
    "\n",
    "# Lead Time\n",
    "sns.boxplot(data=help_ticket, y='Help Ticket Lead Time (hours)', ax=axes[1], color='lightgreen')\n",
    "axes[1].set_title('Distribution of Lead Time (hours)')\n",
    "\n",
    "plt.tight_layout()\n",
    "plt.show()"
   ],
   "id": "961d5c86008a1535",
   "outputs": [
    {
     "data": {
      "text/plain": [
       "<Figure size 1200x500 with 2 Axes>"
      ],
      "image/png": "[encoded data removed]"
     },
     "metadata": {},
     "output_type": "display_data"
    }
   ],
   "execution_count": 142
  },
  {
   "metadata": {
    "ExecuteTime": {
     "end_time": "2025-03-02T19:09:01.322899Z",
     "start_time": "2025-03-02T19:08:47.023589Z"
    }
   },
   "cell_type": "code",
   "source": [
    "fig, axes = plt.subplots(1, 2, figsize=(14, 6))\n",
    "\n",
    "# Ticket Count by Customer\n",
    "sns.barplot(data=help_ticket, x='Customer ID', y='Help Ticket Count', ax=axes[0])\n",
    "axes[0].set_title('Ticket Count by Customer')\n",
    "axes[0].tick_params(axis='x', rotation=45)\n",
    "\n",
    "# Lead Time by Customer\n",
    "sns.barplot(data=help_ticket, x='Customer ID', y='Help Ticket Lead Time (hours)', ax=axes[1])\n",
    "axes[1].set_title('Lead Time by Customer')\n",
    "axes[1].tick_params(axis='x', rotation=45)\n",
    "\n",
    "plt.tight_layout()\n",
    "plt.show()"
   ],
   "id": "bb9d3ff04bb96d62",
   "outputs": [
    {
     "data": {
      "text/plain": [
       "<Figure size 1400x600 with 2 Axes>"
      ],
      "image/png": "[encoded data removed]"
     },
     "metadata": {},
     "output_type": "display_data"
    }
   ],
   "execution_count": 144
  },
  {
   "metadata": {},
   "cell_type": "markdown",
   "source": "Help ticket incelemesi",
   "id": "f6b482bba4b7e077"
  },
  {
   "metadata": {},
   "cell_type": "markdown",
   "source": "### Newsletter Interaction",
   "id": "257f8e75751c2642"
  },
  {
   "metadata": {
    "ExecuteTime": {
     "end_time": "2025-02-26T10:32:20.089121Z",
     "start_time": "2025-02-26T10:32:20.082621Z"
    }
   },
   "cell_type": "code",
   "source": [
    "# Newsletter Interaction\n",
    "\n",
    "newsletter_df = pd.read_csv(\"data/Newsletter_Interaction_Data.csv\")\n",
    "\n",
    "newsletter_df.head()"
   ],
   "id": "971c704fd0b2f8ff",
   "outputs": [
    {
     "data": {
      "text/plain": [
       "   Customer ID  Company Newsletter Interaction Count\n",
       "0   CRM-160150                                    54\n",
       "1   CRM-166800                                    27\n",
       "2   CRM-927200                                    24\n",
       "3  CRM-1526050                                    23\n",
       "4  CRM-1489600                                    20"
      ],
      "text/html": [
       "<div>\n",
       "<style scoped>\n",
       "    .dataframe tbody tr th:only-of-type {\n",
       "        vertical-align: middle;\n",
       "    }\n",
       "\n",
       "    .dataframe tbody tr th {\n",
       "        vertical-align: top;\n",
       "    }\n",
       "\n",
       "    .dataframe thead th {\n",
       "        text-align: right;\n",
       "    }\n",
       "</style>\n",
       "<table border=\"1\" class=\"dataframe\">\n",
       "  <thead>\n",
       "    <tr style=\"text-align: right;\">\n",
       "      <th></th>\n",
       "      <th>Customer ID</th>\n",
       "      <th>Company Newsletter Interaction Count</th>\n",
       "    </tr>\n",
       "  </thead>\n",
       "  <tbody>\n",
       "    <tr>\n",
       "      <th>0</th>\n",
       "      <td>CRM-160150</td>\n",
       "      <td>54</td>\n",
       "    </tr>\n",
       "    <tr>\n",
       "      <th>1</th>\n",
       "      <td>CRM-166800</td>\n",
       "      <td>27</td>\n",
       "    </tr>\n",
       "    <tr>\n",
       "      <th>2</th>\n",
       "      <td>CRM-927200</td>\n",
       "      <td>24</td>\n",
       "    </tr>\n",
       "    <tr>\n",
       "      <th>3</th>\n",
       "      <td>CRM-1526050</td>\n",
       "      <td>23</td>\n",
       "    </tr>\n",
       "    <tr>\n",
       "      <th>4</th>\n",
       "      <td>CRM-1489600</td>\n",
       "      <td>20</td>\n",
       "    </tr>\n",
       "  </tbody>\n",
       "</table>\n",
       "</div>"
      ]
     },
     "execution_count": 13,
     "metadata": {},
     "output_type": "execute_result"
    }
   ],
   "execution_count": 13
  },
  {
   "metadata": {},
   "cell_type": "markdown",
   "source": "Newsletter interaction incelenmesi",
   "id": "7bf1dc9f68f921b4"
  },
  {
   "metadata": {},
   "cell_type": "markdown",
   "source": "### Product Bug",
   "id": "636109e651cdaed8"
  },
  {
   "metadata": {
    "ExecuteTime": {
     "end_time": "2025-02-26T10:32:53.575313Z",
     "start_time": "2025-02-26T10:32:53.567809Z"
    }
   },
   "cell_type": "code",
   "source": [
    "# Product Bug Task\n",
    "\n",
    "product_bug_task_df = pd.read_csv(\"data/Product_Bug_Task_Data.csv\")\n",
    "\n",
    "product_bug_task_df.head()"
   ],
   "id": "bc7c2332b748d3a5",
   "outputs": [
    {
     "data": {
      "text/plain": [
       "   Customer ID  Product Bug Task Count\n",
       "0  CRM-1526150                     179\n",
       "1  CRM-1477300                     150\n",
       "2  CRM-1450300                      66\n",
       "3   CRM-661350                     116\n",
       "4  CRM-1435450                     106"
      ],
      "text/html": [
       "<div>\n",
       "<style scoped>\n",
       "    .dataframe tbody tr th:only-of-type {\n",
       "        vertical-align: middle;\n",
       "    }\n",
       "\n",
       "    .dataframe tbody tr th {\n",
       "        vertical-align: top;\n",
       "    }\n",
       "\n",
       "    .dataframe thead th {\n",
       "        text-align: right;\n",
       "    }\n",
       "</style>\n",
       "<table border=\"1\" class=\"dataframe\">\n",
       "  <thead>\n",
       "    <tr style=\"text-align: right;\">\n",
       "      <th></th>\n",
       "      <th>Customer ID</th>\n",
       "      <th>Product Bug Task Count</th>\n",
       "    </tr>\n",
       "  </thead>\n",
       "  <tbody>\n",
       "    <tr>\n",
       "      <th>0</th>\n",
       "      <td>CRM-1526150</td>\n",
       "      <td>179</td>\n",
       "    </tr>\n",
       "    <tr>\n",
       "      <th>1</th>\n",
       "      <td>CRM-1477300</td>\n",
       "      <td>150</td>\n",
       "    </tr>\n",
       "    <tr>\n",
       "      <th>2</th>\n",
       "      <td>CRM-1450300</td>\n",
       "      <td>66</td>\n",
       "    </tr>\n",
       "    <tr>\n",
       "      <th>3</th>\n",
       "      <td>CRM-661350</td>\n",
       "      <td>116</td>\n",
       "    </tr>\n",
       "    <tr>\n",
       "      <th>4</th>\n",
       "      <td>CRM-1435450</td>\n",
       "      <td>106</td>\n",
       "    </tr>\n",
       "  </tbody>\n",
       "</table>\n",
       "</div>"
      ]
     },
     "execution_count": 14,
     "metadata": {},
     "output_type": "execute_result"
    }
   ],
   "execution_count": 14
  },
  {
   "metadata": {},
   "cell_type": "markdown",
   "source": "product_bug _task incelenmesi",
   "id": "b11c5ab909e81db6"
  },
  {
   "metadata": {},
   "cell_type": "markdown",
   "source": "### Region and Vertical",
   "id": "1200c4bc6b8edab3"
  },
  {
   "metadata": {
    "ExecuteTime": {
     "end_time": "2025-02-26T10:33:54.127582Z",
     "start_time": "2025-02-26T10:33:54.118137Z"
    }
   },
   "cell_type": "code",
   "source": [
    "# Region and Vertical\n",
    "\n",
    "region_and_vertical_df = pd.read_csv(\"data/RegionAndVertical_Data.csv\")\n",
    "\n",
    "region_and_vertical_df.head()"
   ],
   "id": "581806dfd6dae789",
   "outputs": [
    {
     "data": {
      "text/plain": [
       "   Customer ID     Region                      Vertical  \\\n",
       "0  CRM-1471650   Malaysia          Media and Publishing   \n",
       "1  CRM-1516050     Taiwan                        Retail   \n",
       "2  CRM-1087300  Australia  Transportation and Logistics   \n",
       "3  CRM-1467150     Taiwan                        Retail   \n",
       "4   CRM-230550     Turkey                        Retail   \n",
       "\n",
       "                    Subvertical  \n",
       "0              Content Websites  \n",
       "1              Fashion Retailer  \n",
       "2  Transportation and Logistics  \n",
       "3                   Marketplace  \n",
       "4              Fashion Retailer  "
      ],
      "text/html": [
       "<div>\n",
       "<style scoped>\n",
       "    .dataframe tbody tr th:only-of-type {\n",
       "        vertical-align: middle;\n",
       "    }\n",
       "\n",
       "    .dataframe tbody tr th {\n",
       "        vertical-align: top;\n",
       "    }\n",
       "\n",
       "    .dataframe thead th {\n",
       "        text-align: right;\n",
       "    }\n",
       "</style>\n",
       "<table border=\"1\" class=\"dataframe\">\n",
       "  <thead>\n",
       "    <tr style=\"text-align: right;\">\n",
       "      <th></th>\n",
       "      <th>Customer ID</th>\n",
       "      <th>Region</th>\n",
       "      <th>Vertical</th>\n",
       "      <th>Subvertical</th>\n",
       "    </tr>\n",
       "  </thead>\n",
       "  <tbody>\n",
       "    <tr>\n",
       "      <th>0</th>\n",
       "      <td>CRM-1471650</td>\n",
       "      <td>Malaysia</td>\n",
       "      <td>Media and Publishing</td>\n",
       "      <td>Content Websites</td>\n",
       "    </tr>\n",
       "    <tr>\n",
       "      <th>1</th>\n",
       "      <td>CRM-1516050</td>\n",
       "      <td>Taiwan</td>\n",
       "      <td>Retail</td>\n",
       "      <td>Fashion Retailer</td>\n",
       "    </tr>\n",
       "    <tr>\n",
       "      <th>2</th>\n",
       "      <td>CRM-1087300</td>\n",
       "      <td>Australia</td>\n",
       "      <td>Transportation and Logistics</td>\n",
       "      <td>Transportation and Logistics</td>\n",
       "    </tr>\n",
       "    <tr>\n",
       "      <th>3</th>\n",
       "      <td>CRM-1467150</td>\n",
       "      <td>Taiwan</td>\n",
       "      <td>Retail</td>\n",
       "      <td>Marketplace</td>\n",
       "    </tr>\n",
       "    <tr>\n",
       "      <th>4</th>\n",
       "      <td>CRM-230550</td>\n",
       "      <td>Turkey</td>\n",
       "      <td>Retail</td>\n",
       "      <td>Fashion Retailer</td>\n",
       "    </tr>\n",
       "  </tbody>\n",
       "</table>\n",
       "</div>"
      ]
     },
     "execution_count": 15,
     "metadata": {},
     "output_type": "execute_result"
    }
   ],
   "execution_count": 15
  },
  {
   "metadata": {},
   "cell_type": "markdown",
   "source": "Region and vertical incelemesi",
   "id": "d598e5095ac9bfda"
  },
  {
   "metadata": {},
   "cell_type": "markdown",
   "source": "### Status and Level",
   "id": "f12bcf094168b3c9"
  },
  {
   "metadata": {
    "ExecuteTime": {
     "end_time": "2025-02-26T10:34:52.783512Z",
     "start_time": "2025-02-26T10:34:52.775405Z"
    }
   },
   "cell_type": "code",
   "source": [
    "# Status and Level\n",
    "\n",
    "status_and_level_df = pd.read_csv(\"data/StatusAndLevel_Data.csv\")\n",
    "\n",
    "status_and_level_df.head()"
   ],
   "id": "476dc3ffbe2defb3",
   "outputs": [
    {
     "data": {
      "text/plain": [
       "   Customer ID      Status   Customer Level\n",
       "0  CRM-1471650  Onboarding       Enterprise\n",
       "1  CRM-1516050  Onboarding        Long-tail\n",
       "2  CRM-1087300       Churn  Semi-Enterprise\n",
       "3  CRM-1467150       Churn  Semi-Enterprise\n",
       "4   CRM-230550       Churn        Long-tail"
      ],
      "text/html": [
       "<div>\n",
       "<style scoped>\n",
       "    .dataframe tbody tr th:only-of-type {\n",
       "        vertical-align: middle;\n",
       "    }\n",
       "\n",
       "    .dataframe tbody tr th {\n",
       "        vertical-align: top;\n",
       "    }\n",
       "\n",
       "    .dataframe thead th {\n",
       "        text-align: right;\n",
       "    }\n",
       "</style>\n",
       "<table border=\"1\" class=\"dataframe\">\n",
       "  <thead>\n",
       "    <tr style=\"text-align: right;\">\n",
       "      <th></th>\n",
       "      <th>Customer ID</th>\n",
       "      <th>Status</th>\n",
       "      <th>Customer Level</th>\n",
       "    </tr>\n",
       "  </thead>\n",
       "  <tbody>\n",
       "    <tr>\n",
       "      <th>0</th>\n",
       "      <td>CRM-1471650</td>\n",
       "      <td>Onboarding</td>\n",
       "      <td>Enterprise</td>\n",
       "    </tr>\n",
       "    <tr>\n",
       "      <th>1</th>\n",
       "      <td>CRM-1516050</td>\n",
       "      <td>Onboarding</td>\n",
       "      <td>Long-tail</td>\n",
       "    </tr>\n",
       "    <tr>\n",
       "      <th>2</th>\n",
       "      <td>CRM-1087300</td>\n",
       "      <td>Churn</td>\n",
       "      <td>Semi-Enterprise</td>\n",
       "    </tr>\n",
       "    <tr>\n",
       "      <th>3</th>\n",
       "      <td>CRM-1467150</td>\n",
       "      <td>Churn</td>\n",
       "      <td>Semi-Enterprise</td>\n",
       "    </tr>\n",
       "    <tr>\n",
       "      <th>4</th>\n",
       "      <td>CRM-230550</td>\n",
       "      <td>Churn</td>\n",
       "      <td>Long-tail</td>\n",
       "    </tr>\n",
       "  </tbody>\n",
       "</table>\n",
       "</div>"
      ]
     },
     "execution_count": 16,
     "metadata": {},
     "output_type": "execute_result"
    }
   ],
   "execution_count": 16
  },
  {
   "metadata": {},
   "cell_type": "markdown",
   "source": "### Bulunan sonuçlara göre genel bir çıkarım",
   "id": "d0e728b4a8204291"
  },
  {
   "metadata": {},
   "cell_type": "markdown",
   "source": [
    "* Verilen ayrı veri setleri üzerinde **Region and Vertical** , **Status** ve **Age** veri setleri **2651** Customer ile bizim için ana veri listesi ya da **Master List** olarak kabul edilecektir.\n",
    "\n",
    "* Geri kalan veri setleri ana veri setlerimiz üzerinde küçük bir kümeye ait kişilerden oluşmaktadır. Revenue veri seti **900** Customer, Newsletter **251** gibi."
   ],
   "id": "8cdce8952c535cee"
  },
  {
   "metadata": {},
   "cell_type": "code",
   "outputs": [],
   "execution_count": null,
   "source": "",
   "id": "5c43cfa390873911"
  }
 ],
 "metadata": {
  "kernelspec": {
   "display_name": "Python 3",
   "language": "python",
   "name": "python3"
  },
  "language_info": {
   "codemirror_mode": {
    "name": "ipython",
    "version": 2
   },
   "file_extension": ".py",
   "mimetype": "text/x-python",
   "name": "python",
   "nbconvert_exporter": "python",
   "pygments_lexer": "ipython2",
   "version": "2.7.6"
  }
 },
 "nbformat": 4,
 "nbformat_minor": 5
}
